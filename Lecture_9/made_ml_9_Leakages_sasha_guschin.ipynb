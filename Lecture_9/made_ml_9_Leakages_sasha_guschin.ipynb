{
 "cells": [
  {
   "cell_type": "code",
   "execution_count": 1,
   "metadata": {},
   "outputs": [],
   "source": [
    "import json\n",
    "import gzip\n",
    "\n",
    "import numpy as np\n",
    "import pandas as pd\n",
    "from sklearn import model_selection\n",
    "\n",
    "pd.options.display.max_columns = 100\n",
    "%matplotlib inline\n",
    "#%load_ext lab_black"
   ]
  },
  {
   "cell_type": "markdown",
   "metadata": {},
   "source": [
    "# Какие ошибки и лики мы можем найти?\n",
    "Первый шаг к тому, чтобы определять лики в соревнованиях - это научиться находить ошибки в собственном и чужом коде"
   ]
  },
  {
   "cell_type": "markdown",
   "metadata": {},
   "source": [
    "## Motorcycles\n",
    "\n",
    "Прогнозируем стоимость мотоцикла и разбиваем данные на трейн и тест"
   ]
  },
  {
   "cell_type": "code",
   "execution_count": null,
   "metadata": {},
   "outputs": [],
   "source": [
    "motorcycles = pd.read_csv(\n",
    "    \"https://gist.githubusercontent.com/aguschin/2b4fac72a9dc156fbb2ef7b05aadcf79/raw/8a8551de9fad8e220e588842dfd11641a96f8d68/MotorcyclesTSU.csv\",\n",
    "    parse_dates=[\"Published\"],\n",
    ")"
   ]
  },
  {
   "cell_type": "code",
   "execution_count": null,
   "metadata": {},
   "outputs": [],
   "source": [
    "motorcycles.head()"
   ]
  },
  {
   "cell_type": "code",
   "execution_count": null,
   "metadata": {},
   "outputs": [],
   "source": [
    "kf = model_selection.KFold(n_splits=2, shuffle=True)\n",
    "for train_index, test_index in kf.split(motorcycles):\n",
    "    print(\"TRAIN:\", train_index, \"TEST:\", test_index)"
   ]
  },
  {
   "cell_type": "markdown",
   "metadata": {},
   "source": [
    "## Github\n",
    "\n",
    "Предсказываем взломы аккаунтов пользователей Github. Есть отдельная табличка `hacked_times` с идентифицированными взломами с колонками (`user_id`, `time_hacked`). Есть табличка с событиями `events`."
   ]
  },
  {
   "cell_type": "code",
   "execution_count": null,
   "metadata": {},
   "outputs": [],
   "source": [
    "hacked_times = pd.DataFrame(\n",
    "    list(\n",
    "        zip(\n",
    "            np.random.randint(0, 100000000, 10),\n",
    "            pd.Timestamp.now() + np.random.randn(10) * pd.Timedelta(days=1),\n",
    "        )\n",
    "    ),\n",
    "    columns=[\"user_id\", \"time_hacked\"],\n",
    ")\n",
    "hacked_times"
   ]
  },
  {
   "cell_type": "code",
   "execution_count": null,
   "metadata": {},
   "outputs": [],
   "source": [
    "!wget https://data.gharchive.org/2015-01-01-15.json.gz"
   ]
  },
  {
   "cell_type": "code",
   "execution_count": null,
   "metadata": {},
   "outputs": [],
   "source": [
    "with gzip.open(\"./2015-01-01-15.json.gz\", \"r\") as fin:\n",
    "    events = fin.read().decode(\"utf-8\").split(\"\\n\")[:-1]\n",
    "    events = [json.loads(e) for e in events]"
   ]
  },
  {
   "cell_type": "code",
   "execution_count": null,
   "metadata": {},
   "outputs": [],
   "source": [
    "# actor -> id == user_id\n",
    "events = pd.DataFrame(events)\n",
    "events.head()"
   ]
  },
  {
   "cell_type": "markdown",
   "metadata": {},
   "source": [
    "Варианты\n",
    "1. Сделать KFold по табличке `hacked_times`, использовать её\n",
    "2. Сделать KFold по табличке `events`, заполнить таргет из `hacked times`"
   ]
  },
  {
   "cell_type": "markdown",
   "metadata": {},
   "source": [
    "## Shop sales\n",
    "\n",
    "Предсказываем продажи магазина. Используем KFold для sales_train, обучаем модель, предсказываем для sales_test."
   ]
  },
  {
   "cell_type": "code",
   "execution_count": null,
   "metadata": {},
   "outputs": [],
   "source": [
    "sales_train = pd.read_csv(\n",
    "    \"https://gist.githubusercontent.com/aguschin/0498a6a6266933d2a10598b9dce2c4dd/raw/452d05b39c0f0289de9df85d172b0ed69885eb02/predict_future_sales_train_part.csv\"\n",
    ")\n",
    "\n",
    "sales_test = pd.read_csv(\n",
    "    \"https://gist.githubusercontent.com/aguschin/18e83f0e7060f380ac2b59d2696e061b/raw/3d5f52ce4175182530f282cf0d888d07154a1521/predict_future_sales_test_part.csv\"\n",
    ")"
   ]
  },
  {
   "cell_type": "code",
   "execution_count": null,
   "metadata": {},
   "outputs": [],
   "source": [
    "sales_train.head()"
   ]
  },
  {
   "cell_type": "code",
   "execution_count": null,
   "metadata": {},
   "outputs": [],
   "source": [
    "sales_test.head()"
   ]
  },
  {
   "cell_type": "markdown",
   "metadata": {},
   "source": [
    "## "
   ]
  },
  {
   "cell_type": "markdown",
   "metadata": {},
   "source": [
    "## Stock prices\n",
    "Факт: предсказание стоимости акций - задача, где прогнозы слабо отличаются от случайных. Помимо этого, акции нередко испытывают особенно труднопрогнозируемые взлеты и падения. Часто бывает, что их наличие в обучающей выборке путает модель окончательно, и модели, которые обучались на отфильтрованной обучающей выборке, показывают себя более качественными при использовании в проде."
   ]
  },
  {
   "cell_type": "code",
   "execution_count": null,
   "metadata": {},
   "outputs": [],
   "source": [
    "stock_prices = pd.read_csv(\n",
    "    \"https://raw.githubusercontent.com/plotly/datasets/master/tesla-stock-price.csv\"\n",
    ")"
   ]
  },
  {
   "cell_type": "code",
   "execution_count": null,
   "metadata": {},
   "outputs": [],
   "source": [
    "stock_prices[\"change\"] = stock_prices[\"close\"] - stock_prices[\"open\"]"
   ]
  },
  {
   "cell_type": "code",
   "execution_count": null,
   "metadata": {},
   "outputs": [],
   "source": [
    "stock_prices.change.hist(bins=100)"
   ]
  },
  {
   "cell_type": "code",
   "execution_count": null,
   "metadata": {},
   "outputs": [],
   "source": [
    "((-20 < stock_prices[\"change\"]) * (stock_prices[\"change\"] < 20)).mean()"
   ]
  },
  {
   "cell_type": "code",
   "execution_count": null,
   "metadata": {},
   "outputs": [],
   "source": [
    "stock_prices[\"change\"] = stock_prices[\"change\"].clip(-30, 30)"
   ]
  },
  {
   "cell_type": "markdown",
   "metadata": {},
   "source": [
    "В чем проблема такого подхода и какие другие варианты можно предложить?"
   ]
  },
  {
   "cell_type": "code",
   "execution_count": null,
   "metadata": {},
   "outputs": [],
   "source": []
  }
 ],
 "metadata": {
  "kernelspec": {
   "display_name": "Python 3 (ipykernel)",
   "language": "python",
   "name": "python3"
  },
  "language_info": {
   "codemirror_mode": {
    "name": "ipython",
    "version": 3
   },
   "file_extension": ".py",
   "mimetype": "text/x-python",
   "name": "python",
   "nbconvert_exporter": "python",
   "pygments_lexer": "ipython3",
   "version": "3.8.12"
  }
 },
 "nbformat": 4,
 "nbformat_minor": 4
}
