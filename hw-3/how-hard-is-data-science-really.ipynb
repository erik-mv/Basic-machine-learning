{
 "cells": [
  {
   "cell_type": "markdown",
   "metadata": {},
   "source": [
    "# Notebook on Predicting Amsterdam Airbnb listing price"
   ]
  },
  {
   "cell_type": "markdown",
   "metadata": {},
   "source": [
    "Opinions are my own.\n",
    "\n",
    "This notebook has served as a playing ground for me to explore the Airbnb Amsterdam data and try to predict listing prices through several different methods, including:\n",
    "\n",
    "* Linear Regression\n",
    "* Random Forrest Regression\n",
    "* OLS\n",
    "* H2O Auto ML\n"
   ]
  },
  {
   "cell_type": "markdown",
   "metadata": {},
   "source": [
    "## Getting up and running\n",
    "Import all the libaries"
   ]
  },
  {
   "cell_type": "code",
   "execution_count": 1,
   "metadata": {
    "_cell_guid": "79c7e3d0-c299-4dcb-8224-4455121ee9b0",
    "_uuid": "d629ff2d2480ee46fbb7e2d37f6b5fab8052498a"
   },
   "outputs": [],
   "source": [
    "# Import all the necessary libraries \n",
    "\n",
    "# commonly used libraries\n",
    "import numpy as np\n",
    "import pandas as pd\n",
    "import matplotlib.pyplot as plt\n",
    "%matplotlib inline\n",
    "\n",
    "# visualization library\n",
    "import seaborn as sns\n",
    "\n",
    "# data manipulation utility libraries\n",
    "import distutils\n",
    "import datetime\n",
    "import re\n",
    "\n",
    "# sklearn libraries\n",
    "from sklearn.linear_model import LinearRegression\n",
    "from sklearn.preprocessing import PolynomialFeatures\n",
    "from sklearn import metrics\n",
    "from sklearn.model_selection import train_test_split\n",
    "from sklearn.metrics import r2_score, mean_squared_error\n",
    "\n",
    "# stats library\n",
    "from scipy import stats\n",
    "from scipy.stats import boxcox\n",
    "\n",
    "\n"
   ]
  },
  {
   "cell_type": "code",
   "execution_count": 2,
   "metadata": {},
   "outputs": [],
   "source": [
    "# Import the data\n",
    "df = pd.read_csv('../hw-3/train.csv')"
   ]
  },
  {
   "cell_type": "markdown",
   "metadata": {},
   "source": [
    "# Data exploration"
   ]
  },
  {
   "cell_type": "code",
   "execution_count": 3,
   "metadata": {},
   "outputs": [
    {
     "data": {
      "text/html": [
       "<div>\n",
       "<style scoped>\n",
       "    .dataframe tbody tr th:only-of-type {\n",
       "        vertical-align: middle;\n",
       "    }\n",
       "\n",
       "    .dataframe tbody tr th {\n",
       "        vertical-align: top;\n",
       "    }\n",
       "\n",
       "    .dataframe thead th {\n",
       "        text-align: right;\n",
       "    }\n",
       "</style>\n",
       "<table border=\"1\" class=\"dataframe\">\n",
       "  <thead>\n",
       "    <tr style=\"text-align: right;\">\n",
       "      <th></th>\n",
       "      <th>id</th>\n",
       "      <th>name</th>\n",
       "      <th>summary</th>\n",
       "      <th>space</th>\n",
       "      <th>description</th>\n",
       "      <th>experiences_offered</th>\n",
       "      <th>neighborhood_overview</th>\n",
       "      <th>notes</th>\n",
       "      <th>transit</th>\n",
       "      <th>access</th>\n",
       "      <th>...</th>\n",
       "      <th>square_feet</th>\n",
       "      <th>security_deposit</th>\n",
       "      <th>cleaning_fee</th>\n",
       "      <th>guests_included</th>\n",
       "      <th>extra_people</th>\n",
       "      <th>minimum_nights</th>\n",
       "      <th>cancellation_policy</th>\n",
       "      <th>require_guest_profile_picture</th>\n",
       "      <th>require_guest_phone_verification</th>\n",
       "      <th>price</th>\n",
       "    </tr>\n",
       "  </thead>\n",
       "  <tbody>\n",
       "    <tr>\n",
       "      <th>0</th>\n",
       "      <td>127860</td>\n",
       "      <td>Double bedroom in cottage Twickenham (sleeps 1-2)</td>\n",
       "      <td>One gorgeous, light-filled double bedroom (sle...</td>\n",
       "      <td>A beautiful, light-filled double bedroom is ou...</td>\n",
       "      <td>One gorgeous, light-filled double bedroom (sle...</td>\n",
       "      <td>none</td>\n",
       "      <td>Very, very safe area, great transport links an...</td>\n",
       "      <td>We have a super-gorgeous cat</td>\n",
       "      <td>Twickenham Rugby Stadium is 15 mins walk Water...</td>\n",
       "      <td>You'll have full use of the cottage, two recep...</td>\n",
       "      <td>...</td>\n",
       "      <td>NaN</td>\n",
       "      <td>300.0</td>\n",
       "      <td>10.0</td>\n",
       "      <td>1</td>\n",
       "      <td>10.0</td>\n",
       "      <td>2</td>\n",
       "      <td>strict_14_with_grace_period</td>\n",
       "      <td>f</td>\n",
       "      <td>f</td>\n",
       "      <td>1000.0</td>\n",
       "    </tr>\n",
       "    <tr>\n",
       "      <th>1</th>\n",
       "      <td>325809</td>\n",
       "      <td>Big House for Olympics sleeps 6 to8</td>\n",
       "      <td>NaN</td>\n",
       "      <td>A beautiful, modern, art-filled and clean 4 st...</td>\n",
       "      <td>A beautiful, modern, art-filled and clean 4 st...</td>\n",
       "      <td>none</td>\n",
       "      <td>NaN</td>\n",
       "      <td>NaN</td>\n",
       "      <td>NaN</td>\n",
       "      <td>NaN</td>\n",
       "      <td>...</td>\n",
       "      <td>1400.0</td>\n",
       "      <td>771.0</td>\n",
       "      <td>NaN</td>\n",
       "      <td>1</td>\n",
       "      <td>0.0</td>\n",
       "      <td>14</td>\n",
       "      <td>strict_14_with_grace_period</td>\n",
       "      <td>f</td>\n",
       "      <td>f</td>\n",
       "      <td>771.0</td>\n",
       "    </tr>\n",
       "    <tr>\n",
       "      <th>2</th>\n",
       "      <td>429045</td>\n",
       "      <td>The Old Coach House (Olympics)</td>\n",
       "      <td>NaN</td>\n",
       "      <td>Fabulous, recently refurbished original Victor...</td>\n",
       "      <td>Fabulous, recently refurbished original Victor...</td>\n",
       "      <td>none</td>\n",
       "      <td>NaN</td>\n",
       "      <td>NaN</td>\n",
       "      <td>NaN</td>\n",
       "      <td>NaN</td>\n",
       "      <td>...</td>\n",
       "      <td>1800.0</td>\n",
       "      <td>600.0</td>\n",
       "      <td>NaN</td>\n",
       "      <td>1</td>\n",
       "      <td>0.0</td>\n",
       "      <td>14</td>\n",
       "      <td>strict_14_with_grace_period</td>\n",
       "      <td>f</td>\n",
       "      <td>f</td>\n",
       "      <td>1500.0</td>\n",
       "    </tr>\n",
       "    <tr>\n",
       "      <th>3</th>\n",
       "      <td>473637</td>\n",
       "      <td>Brand New contemporary mews house</td>\n",
       "      <td>NaN</td>\n",
       "      <td>Stunning contemporary mews available for let o...</td>\n",
       "      <td>Stunning contemporary mews available for let o...</td>\n",
       "      <td>none</td>\n",
       "      <td>NaN</td>\n",
       "      <td>NaN</td>\n",
       "      <td>NaN</td>\n",
       "      <td>NaN</td>\n",
       "      <td>...</td>\n",
       "      <td>2100.0</td>\n",
       "      <td>300.0</td>\n",
       "      <td>100.0</td>\n",
       "      <td>7</td>\n",
       "      <td>100.0</td>\n",
       "      <td>14</td>\n",
       "      <td>strict_14_with_grace_period</td>\n",
       "      <td>f</td>\n",
       "      <td>f</td>\n",
       "      <td>2000.0</td>\n",
       "    </tr>\n",
       "    <tr>\n",
       "      <th>4</th>\n",
       "      <td>533943</td>\n",
       "      <td>LUXURY APT. NEAR BUCKINGHAM PALACE</td>\n",
       "      <td>“The area around Westminster Cathedral has lon...</td>\n",
       "      <td>This stunning, spacious, 4 bedroom, top floor ...</td>\n",
       "      <td>“The area around Westminster Cathedral has lon...</td>\n",
       "      <td>family</td>\n",
       "      <td>The proximity of all of London's main attracti...</td>\n",
       "      <td>NaN</td>\n",
       "      <td>Only 5 minutes walk to Victoria Station, the m...</td>\n",
       "      <td>NaN</td>\n",
       "      <td>...</td>\n",
       "      <td>2220.0</td>\n",
       "      <td>2505.0</td>\n",
       "      <td>180.0</td>\n",
       "      <td>1</td>\n",
       "      <td>0.0</td>\n",
       "      <td>14</td>\n",
       "      <td>strict_14_with_grace_period</td>\n",
       "      <td>f</td>\n",
       "      <td>t</td>\n",
       "      <td>901.0</td>\n",
       "    </tr>\n",
       "  </tbody>\n",
       "</table>\n",
       "<p>5 rows × 43 columns</p>\n",
       "</div>"
      ],
      "text/plain": [
       "       id                                               name  \\\n",
       "0  127860  Double bedroom in cottage Twickenham (sleeps 1-2)   \n",
       "1  325809                Big House for Olympics sleeps 6 to8   \n",
       "2  429045                     The Old Coach House (Olympics)   \n",
       "3  473637                 Brand New contemporary mews house    \n",
       "4  533943                 LUXURY APT. NEAR BUCKINGHAM PALACE   \n",
       "\n",
       "                                             summary  \\\n",
       "0  One gorgeous, light-filled double bedroom (sle...   \n",
       "1                                                NaN   \n",
       "2                                                NaN   \n",
       "3                                                NaN   \n",
       "4  “The area around Westminster Cathedral has lon...   \n",
       "\n",
       "                                               space  \\\n",
       "0  A beautiful, light-filled double bedroom is ou...   \n",
       "1  A beautiful, modern, art-filled and clean 4 st...   \n",
       "2  Fabulous, recently refurbished original Victor...   \n",
       "3  Stunning contemporary mews available for let o...   \n",
       "4  This stunning, spacious, 4 bedroom, top floor ...   \n",
       "\n",
       "                                         description experiences_offered  \\\n",
       "0  One gorgeous, light-filled double bedroom (sle...                none   \n",
       "1  A beautiful, modern, art-filled and clean 4 st...                none   \n",
       "2  Fabulous, recently refurbished original Victor...                none   \n",
       "3  Stunning contemporary mews available for let o...                none   \n",
       "4  “The area around Westminster Cathedral has lon...              family   \n",
       "\n",
       "                               neighborhood_overview  \\\n",
       "0  Very, very safe area, great transport links an...   \n",
       "1                                                NaN   \n",
       "2                                                NaN   \n",
       "3                                                NaN   \n",
       "4  The proximity of all of London's main attracti...   \n",
       "\n",
       "                          notes  \\\n",
       "0  We have a super-gorgeous cat   \n",
       "1                           NaN   \n",
       "2                           NaN   \n",
       "3                           NaN   \n",
       "4                           NaN   \n",
       "\n",
       "                                             transit  \\\n",
       "0  Twickenham Rugby Stadium is 15 mins walk Water...   \n",
       "1                                                NaN   \n",
       "2                                                NaN   \n",
       "3                                                NaN   \n",
       "4  Only 5 minutes walk to Victoria Station, the m...   \n",
       "\n",
       "                                              access  ... square_feet  \\\n",
       "0  You'll have full use of the cottage, two recep...  ...         NaN   \n",
       "1                                                NaN  ...      1400.0   \n",
       "2                                                NaN  ...      1800.0   \n",
       "3                                                NaN  ...      2100.0   \n",
       "4                                                NaN  ...      2220.0   \n",
       "\n",
       "  security_deposit  cleaning_fee guests_included extra_people minimum_nights  \\\n",
       "0            300.0          10.0               1         10.0              2   \n",
       "1            771.0           NaN               1          0.0             14   \n",
       "2            600.0           NaN               1          0.0             14   \n",
       "3            300.0         100.0               7        100.0             14   \n",
       "4           2505.0         180.0               1          0.0             14   \n",
       "\n",
       "           cancellation_policy require_guest_profile_picture  \\\n",
       "0  strict_14_with_grace_period                             f   \n",
       "1  strict_14_with_grace_period                             f   \n",
       "2  strict_14_with_grace_period                             f   \n",
       "3  strict_14_with_grace_period                             f   \n",
       "4  strict_14_with_grace_period                             f   \n",
       "\n",
       "  require_guest_phone_verification   price  \n",
       "0                                f  1000.0  \n",
       "1                                f   771.0  \n",
       "2                                f  1500.0  \n",
       "3                                f  2000.0  \n",
       "4                                t   901.0  \n",
       "\n",
       "[5 rows x 43 columns]"
      ]
     },
     "execution_count": 3,
     "metadata": {},
     "output_type": "execute_result"
    }
   ],
   "source": [
    "#Look at top rows of dataframe\n",
    "df.head()\n"
   ]
  },
  {
   "cell_type": "code",
   "execution_count": 4,
   "metadata": {},
   "outputs": [
    {
     "data": {
      "text/html": [
       "<div>\n",
       "<style scoped>\n",
       "    .dataframe tbody tr th:only-of-type {\n",
       "        vertical-align: middle;\n",
       "    }\n",
       "\n",
       "    .dataframe tbody tr th {\n",
       "        vertical-align: top;\n",
       "    }\n",
       "\n",
       "    .dataframe thead th {\n",
       "        text-align: right;\n",
       "    }\n",
       "</style>\n",
       "<table border=\"1\" class=\"dataframe\">\n",
       "  <thead>\n",
       "    <tr style=\"text-align: right;\">\n",
       "      <th></th>\n",
       "      <th>id</th>\n",
       "      <th>host_id</th>\n",
       "      <th>latitude</th>\n",
       "      <th>longitude</th>\n",
       "      <th>accommodates</th>\n",
       "      <th>bathrooms</th>\n",
       "      <th>bedrooms</th>\n",
       "      <th>beds</th>\n",
       "      <th>square_feet</th>\n",
       "      <th>security_deposit</th>\n",
       "      <th>cleaning_fee</th>\n",
       "      <th>guests_included</th>\n",
       "      <th>extra_people</th>\n",
       "      <th>minimum_nights</th>\n",
       "      <th>price</th>\n",
       "    </tr>\n",
       "  </thead>\n",
       "  <tbody>\n",
       "    <tr>\n",
       "      <th>count</th>\n",
       "      <td>5.181500e+04</td>\n",
       "      <td>5.181500e+04</td>\n",
       "      <td>51815.000000</td>\n",
       "      <td>51815.000000</td>\n",
       "      <td>51815.000000</td>\n",
       "      <td>51812.000000</td>\n",
       "      <td>51796.000000</td>\n",
       "      <td>51743.000000</td>\n",
       "      <td>15.000000</td>\n",
       "      <td>33897.000000</td>\n",
       "      <td>38364.000000</td>\n",
       "      <td>51815.000000</td>\n",
       "      <td>51815.000000</td>\n",
       "      <td>51815.000000</td>\n",
       "      <td>51815.000000</td>\n",
       "    </tr>\n",
       "    <tr>\n",
       "      <th>mean</th>\n",
       "      <td>2.238119e+07</td>\n",
       "      <td>8.122630e+07</td>\n",
       "      <td>51.509058</td>\n",
       "      <td>-0.127937</td>\n",
       "      <td>3.225089</td>\n",
       "      <td>1.294227</td>\n",
       "      <td>1.399027</td>\n",
       "      <td>1.773438</td>\n",
       "      <td>991.133333</td>\n",
       "      <td>192.249019</td>\n",
       "      <td>42.472891</td>\n",
       "      <td>1.561401</td>\n",
       "      <td>7.052359</td>\n",
       "      <td>3.959548</td>\n",
       "      <td>115.015787</td>\n",
       "    </tr>\n",
       "    <tr>\n",
       "      <th>std</th>\n",
       "      <td>4.648209e+06</td>\n",
       "      <td>6.712667e+07</td>\n",
       "      <td>0.045575</td>\n",
       "      <td>0.092781</td>\n",
       "      <td>2.002458</td>\n",
       "      <td>0.620269</td>\n",
       "      <td>0.907317</td>\n",
       "      <td>1.224066</td>\n",
       "      <td>933.178965</td>\n",
       "      <td>310.090851</td>\n",
       "      <td>44.525508</td>\n",
       "      <td>1.282639</td>\n",
       "      <td>13.353841</td>\n",
       "      <td>13.994390</td>\n",
       "      <td>201.599587</td>\n",
       "    </tr>\n",
       "    <tr>\n",
       "      <th>min</th>\n",
       "      <td>1.278600e+05</td>\n",
       "      <td>4.775000e+03</td>\n",
       "      <td>51.294794</td>\n",
       "      <td>-0.501305</td>\n",
       "      <td>1.000000</td>\n",
       "      <td>0.000000</td>\n",
       "      <td>0.000000</td>\n",
       "      <td>0.000000</td>\n",
       "      <td>0.000000</td>\n",
       "      <td>0.000000</td>\n",
       "      <td>0.000000</td>\n",
       "      <td>1.000000</td>\n",
       "      <td>0.000000</td>\n",
       "      <td>1.000000</td>\n",
       "      <td>0.000000</td>\n",
       "    </tr>\n",
       "    <tr>\n",
       "      <th>25%</th>\n",
       "      <td>1.874920e+07</td>\n",
       "      <td>2.049720e+07</td>\n",
       "      <td>51.486162</td>\n",
       "      <td>-0.187733</td>\n",
       "      <td>2.000000</td>\n",
       "      <td>1.000000</td>\n",
       "      <td>1.000000</td>\n",
       "      <td>1.000000</td>\n",
       "      <td>242.000000</td>\n",
       "      <td>0.000000</td>\n",
       "      <td>15.000000</td>\n",
       "      <td>1.000000</td>\n",
       "      <td>0.000000</td>\n",
       "      <td>1.000000</td>\n",
       "      <td>45.000000</td>\n",
       "    </tr>\n",
       "    <tr>\n",
       "      <th>50%</th>\n",
       "      <td>2.235012e+07</td>\n",
       "      <td>6.358767e+07</td>\n",
       "      <td>51.513346</td>\n",
       "      <td>-0.126478</td>\n",
       "      <td>2.000000</td>\n",
       "      <td>1.000000</td>\n",
       "      <td>1.000000</td>\n",
       "      <td>1.000000</td>\n",
       "      <td>753.000000</td>\n",
       "      <td>100.000000</td>\n",
       "      <td>30.000000</td>\n",
       "      <td>1.000000</td>\n",
       "      <td>0.000000</td>\n",
       "      <td>2.000000</td>\n",
       "      <td>80.000000</td>\n",
       "    </tr>\n",
       "    <tr>\n",
       "      <th>75%</th>\n",
       "      <td>2.655883e+07</td>\n",
       "      <td>1.362233e+08</td>\n",
       "      <td>51.535516</td>\n",
       "      <td>-0.070239</td>\n",
       "      <td>4.000000</td>\n",
       "      <td>1.500000</td>\n",
       "      <td>2.000000</td>\n",
       "      <td>2.000000</td>\n",
       "      <td>1600.000000</td>\n",
       "      <td>250.000000</td>\n",
       "      <td>60.000000</td>\n",
       "      <td>2.000000</td>\n",
       "      <td>10.000000</td>\n",
       "      <td>3.000000</td>\n",
       "      <td>135.000000</td>\n",
       "    </tr>\n",
       "    <tr>\n",
       "      <th>max</th>\n",
       "      <td>2.979850e+07</td>\n",
       "      <td>2.241824e+08</td>\n",
       "      <td>51.679199</td>\n",
       "      <td>0.285395</td>\n",
       "      <td>20.000000</td>\n",
       "      <td>14.000000</td>\n",
       "      <td>12.000000</td>\n",
       "      <td>16.000000</td>\n",
       "      <td>3000.000000</td>\n",
       "      <td>4098.000000</td>\n",
       "      <td>614.000000</td>\n",
       "      <td>30.000000</td>\n",
       "      <td>235.000000</td>\n",
       "      <td>1125.000000</td>\n",
       "      <td>13700.000000</td>\n",
       "    </tr>\n",
       "  </tbody>\n",
       "</table>\n",
       "</div>"
      ],
      "text/plain": [
       "                 id       host_id      latitude     longitude  accommodates  \\\n",
       "count  5.181500e+04  5.181500e+04  51815.000000  51815.000000  51815.000000   \n",
       "mean   2.238119e+07  8.122630e+07     51.509058     -0.127937      3.225089   \n",
       "std    4.648209e+06  6.712667e+07      0.045575      0.092781      2.002458   \n",
       "min    1.278600e+05  4.775000e+03     51.294794     -0.501305      1.000000   \n",
       "25%    1.874920e+07  2.049720e+07     51.486162     -0.187733      2.000000   \n",
       "50%    2.235012e+07  6.358767e+07     51.513346     -0.126478      2.000000   \n",
       "75%    2.655883e+07  1.362233e+08     51.535516     -0.070239      4.000000   \n",
       "max    2.979850e+07  2.241824e+08     51.679199      0.285395     20.000000   \n",
       "\n",
       "          bathrooms      bedrooms          beds  square_feet  \\\n",
       "count  51812.000000  51796.000000  51743.000000    15.000000   \n",
       "mean       1.294227      1.399027      1.773438   991.133333   \n",
       "std        0.620269      0.907317      1.224066   933.178965   \n",
       "min        0.000000      0.000000      0.000000     0.000000   \n",
       "25%        1.000000      1.000000      1.000000   242.000000   \n",
       "50%        1.000000      1.000000      1.000000   753.000000   \n",
       "75%        1.500000      2.000000      2.000000  1600.000000   \n",
       "max       14.000000     12.000000     16.000000  3000.000000   \n",
       "\n",
       "       security_deposit  cleaning_fee  guests_included  extra_people  \\\n",
       "count      33897.000000  38364.000000     51815.000000  51815.000000   \n",
       "mean         192.249019     42.472891         1.561401      7.052359   \n",
       "std          310.090851     44.525508         1.282639     13.353841   \n",
       "min            0.000000      0.000000         1.000000      0.000000   \n",
       "25%            0.000000     15.000000         1.000000      0.000000   \n",
       "50%          100.000000     30.000000         1.000000      0.000000   \n",
       "75%          250.000000     60.000000         2.000000     10.000000   \n",
       "max         4098.000000    614.000000        30.000000    235.000000   \n",
       "\n",
       "       minimum_nights         price  \n",
       "count    51815.000000  51815.000000  \n",
       "mean         3.959548    115.015787  \n",
       "std         13.994390    201.599587  \n",
       "min          1.000000      0.000000  \n",
       "25%          1.000000     45.000000  \n",
       "50%          2.000000     80.000000  \n",
       "75%          3.000000    135.000000  \n",
       "max       1125.000000  13700.000000  "
      ]
     },
     "execution_count": 4,
     "metadata": {},
     "output_type": "execute_result"
    }
   ],
   "source": [
    "#Quick summary of dataframe\n",
    "df.describe()\n"
   ]
  },
  {
   "cell_type": "code",
   "execution_count": 5,
   "metadata": {},
   "outputs": [
    {
     "data": {
      "text/plain": [
       "(51815, 43)"
      ]
     },
     "execution_count": 5,
     "metadata": {},
     "output_type": "execute_result"
    }
   ],
   "source": [
    "#number of rows and columns\n",
    "df.shape\n"
   ]
  },
  {
   "cell_type": "code",
   "execution_count": 6,
   "metadata": {},
   "outputs": [
    {
     "data": {
      "text/plain": [
       "51815"
      ]
     },
     "execution_count": 6,
     "metadata": {},
     "output_type": "execute_result"
    }
   ],
   "source": [
    "#sum of NaN values in price column\n",
    "np.sum(df.price.notnull())"
   ]
  },
  {
   "cell_type": "code",
   "execution_count": 7,
   "metadata": {},
   "outputs": [
    {
     "data": {
      "text/plain": [
       "0        1000.0\n",
       "1         771.0\n",
       "2        1500.0\n",
       "3        2000.0\n",
       "4         901.0\n",
       "          ...  \n",
       "51810      68.0\n",
       "51811     349.0\n",
       "51812     100.0\n",
       "51813      69.0\n",
       "51814     100.0\n",
       "Name: price, Length: 51815, dtype: float64"
      ]
     },
     "execution_count": 7,
     "metadata": {},
     "output_type": "execute_result"
    }
   ],
   "source": [
    "# price column\n",
    "df.price"
   ]
  },
  {
   "cell_type": "code",
   "execution_count": 8,
   "metadata": {},
   "outputs": [
    {
     "data": {
      "text/plain": [
       "Index(['latitude', 'longitude', 'bathrooms', 'bedrooms', 'beds', 'square_feet',\n",
       "       'security_deposit', 'cleaning_fee', 'extra_people', 'price'],\n",
       "      dtype='object')"
      ]
     },
     "execution_count": 8,
     "metadata": {},
     "output_type": "execute_result"
    }
   ],
   "source": [
    "# check out all columns with numeric values\n",
    "num_vars = df.select_dtypes(include=['float', 'int']).columns\n",
    "num_vars"
   ]
  },
  {
   "cell_type": "code",
   "execution_count": 9,
   "metadata": {},
   "outputs": [
    {
     "data": {
      "text/plain": [
       "Index(['name', 'summary', 'space', 'description', 'experiences_offered',\n",
       "       'neighborhood_overview', 'notes', 'transit', 'access', 'interaction',\n",
       "       'house_rules', 'host_since', 'host_about', 'host_response_time',\n",
       "       'host_response_rate', 'host_is_superhost', 'host_has_profile_pic',\n",
       "       'host_identity_verified', 'neighbourhood_cleansed', 'zipcode',\n",
       "       'is_location_exact', 'property_type', 'room_type', 'bed_type',\n",
       "       'amenities', 'cancellation_policy', 'require_guest_profile_picture',\n",
       "       'require_guest_phone_verification'],\n",
       "      dtype='object')"
      ]
     },
     "execution_count": 9,
     "metadata": {},
     "output_type": "execute_result"
    }
   ],
   "source": [
    "# check out all columns with categorical values\n",
    "num_cat = df.select_dtypes(include=['object']).columns\n",
    "\n",
    "num_cat"
   ]
  },
  {
   "cell_type": "code",
   "execution_count": 11,
   "metadata": {},
   "outputs": [
    {
     "data": {
      "text/html": [
       "<div>\n",
       "<style scoped>\n",
       "    .dataframe tbody tr th:only-of-type {\n",
       "        vertical-align: middle;\n",
       "    }\n",
       "\n",
       "    .dataframe tbody tr th {\n",
       "        vertical-align: top;\n",
       "    }\n",
       "\n",
       "    .dataframe thead th {\n",
       "        text-align: right;\n",
       "    }\n",
       "</style>\n",
       "<table border=\"1\" class=\"dataframe\">\n",
       "  <thead>\n",
       "    <tr style=\"text-align: right;\">\n",
       "      <th></th>\n",
       "      <th>neighborhood_overview</th>\n",
       "      <th>neighbourhood_cleansed</th>\n",
       "    </tr>\n",
       "  </thead>\n",
       "  <tbody>\n",
       "    <tr>\n",
       "      <th>0</th>\n",
       "      <td>Very, very safe area, great transport links an...</td>\n",
       "      <td>Richmond upon Thames</td>\n",
       "    </tr>\n",
       "    <tr>\n",
       "      <th>1</th>\n",
       "      <td>NaN</td>\n",
       "      <td>Camden</td>\n",
       "    </tr>\n",
       "    <tr>\n",
       "      <th>2</th>\n",
       "      <td>NaN</td>\n",
       "      <td>Lewisham</td>\n",
       "    </tr>\n",
       "    <tr>\n",
       "      <th>3</th>\n",
       "      <td>NaN</td>\n",
       "      <td>Kensington and Chelsea</td>\n",
       "    </tr>\n",
       "    <tr>\n",
       "      <th>4</th>\n",
       "      <td>The proximity of all of London's main attracti...</td>\n",
       "      <td>Westminster</td>\n",
       "    </tr>\n",
       "    <tr>\n",
       "      <th>...</th>\n",
       "      <td>...</td>\n",
       "      <td>...</td>\n",
       "    </tr>\n",
       "    <tr>\n",
       "      <th>51810</th>\n",
       "      <td>NaN</td>\n",
       "      <td>Merton</td>\n",
       "    </tr>\n",
       "    <tr>\n",
       "      <th>51811</th>\n",
       "      <td>NaN</td>\n",
       "      <td>Southwark</td>\n",
       "    </tr>\n",
       "    <tr>\n",
       "      <th>51812</th>\n",
       "      <td>NaN</td>\n",
       "      <td>Croydon</td>\n",
       "    </tr>\n",
       "    <tr>\n",
       "      <th>51813</th>\n",
       "      <td>A lot of greenery around this property, great ...</td>\n",
       "      <td>Hounslow</td>\n",
       "    </tr>\n",
       "    <tr>\n",
       "      <th>51814</th>\n",
       "      <td>NaN</td>\n",
       "      <td>Islington</td>\n",
       "    </tr>\n",
       "  </tbody>\n",
       "</table>\n",
       "<p>51815 rows × 2 columns</p>\n",
       "</div>"
      ],
      "text/plain": [
       "                                   neighborhood_overview  \\\n",
       "0      Very, very safe area, great transport links an...   \n",
       "1                                                    NaN   \n",
       "2                                                    NaN   \n",
       "3                                                    NaN   \n",
       "4      The proximity of all of London's main attracti...   \n",
       "...                                                  ...   \n",
       "51810                                                NaN   \n",
       "51811                                                NaN   \n",
       "51812                                                NaN   \n",
       "51813  A lot of greenery around this property, great ...   \n",
       "51814                                                NaN   \n",
       "\n",
       "       neighbourhood_cleansed  \n",
       "0        Richmond upon Thames  \n",
       "1                      Camden  \n",
       "2                    Lewisham  \n",
       "3      Kensington and Chelsea  \n",
       "4                 Westminster  \n",
       "...                       ...  \n",
       "51810                  Merton  \n",
       "51811               Southwark  \n",
       "51812                 Croydon  \n",
       "51813                Hounslow  \n",
       "51814               Islington  \n",
       "\n",
       "[51815 rows x 2 columns]"
      ]
     },
     "execution_count": 11,
     "metadata": {},
     "output_type": "execute_result"
    }
   ],
   "source": [
    "#check values in different neighbourhood columns\n",
    "df[['neighborhood_overview','neighbourhood_cleansed']]"
   ]
  },
  {
   "cell_type": "code",
   "execution_count": 12,
   "metadata": {},
   "outputs": [
    {
     "data": {
      "text/plain": [
       "Westminster               0.117611\n",
       "Tower Hamlets             0.102171\n",
       "Kensington and Chelsea    0.074689\n",
       "Camden                    0.070810\n",
       "Hackney                   0.066390\n",
       "Southwark                 0.058902\n",
       "Islington                 0.057763\n",
       "Lambeth                   0.054444\n",
       "Hammersmith and Fulham    0.050449\n",
       "Wandsworth                0.049870\n",
       "Brent                     0.029142\n",
       "Lewisham                  0.026460\n",
       "Newham                    0.024819\n",
       "Haringey                  0.024201\n",
       "Greenwich                 0.020785\n",
       "Ealing                    0.020515\n",
       "Barnet                    0.018856\n",
       "Merton                    0.016289\n",
       "Waltham Forest            0.015362\n",
       "Croydon                   0.014243\n",
       "Richmond upon Thames      0.012004\n",
       "Hounslow                  0.011850\n",
       "Redbridge                 0.008183\n",
       "Hillingdon                0.008067\n",
       "Bromley                   0.007295\n",
       "Enfield                   0.007102\n",
       "City of London            0.006967\n",
       "Kingston upon Thames      0.005713\n",
       "Harrow                    0.005635\n",
       "Barking and Dagenham      0.004034\n",
       "Sutton                    0.003223\n",
       "Havering                  0.003184\n",
       "Bexley                    0.002972\n",
       "Name: neighbourhood_cleansed, dtype: float64"
      ]
     },
     "execution_count": 12,
     "metadata": {},
     "output_type": "execute_result"
    }
   ],
   "source": [
    "# see ratio of categorical values \n",
    "df.neighbourhood_cleansed.value_counts() / df.shape[0]"
   ]
  },
  {
   "cell_type": "markdown",
   "metadata": {},
   "source": [
    "# **Data Preparation**\n",
    "\n",
    "* Dropping many columns\n",
    "* Cleaning some data quality issues\n",
    "* Cutting outliers based on mod-z\n",
    "* Create dummy variables"
   ]
  },
  {
   "cell_type": "code",
   "execution_count": 28,
   "metadata": {},
   "outputs": [],
   "source": [
    "# drop columns that are irelevant \n",
    "df_clean = df.drop(['id', 'host_id', 'latitude','longitude',  \n",
    "              'name', 'summary', 'space',\n",
    "              'description', 'experiences_offered', 'neighborhood_overview', 'notes',\n",
    "              'transit', 'access', 'interaction', 'house_rules',\n",
    "              'host_about', 'zipcode', 'security_deposit', 'cleaning_fee',\n",
    "              'extra_people',\n",
    "              'guests_included','host_response_time','host_response_rate', 'square_feet'\n",
    "             ], axis=1)\n",
    "\n"
   ]
  },
  {
   "cell_type": "markdown",
   "metadata": {},
   "source": [
    "# #Drop all NaN values "
   ]
  },
  {
   "cell_type": "code",
   "execution_count": 29,
   "metadata": {},
   "outputs": [],
   "source": [
    "# drop all NaN values\n",
    "df_clean = df_clean.dropna()"
   ]
  },
  {
   "cell_type": "markdown",
   "metadata": {},
   "source": [
    "## Get rid of string items in Price column"
   ]
  },
  {
   "cell_type": "code",
   "execution_count": 30,
   "metadata": {},
   "outputs": [],
   "source": [
    "# use string.replace to get rid of string items in price column\n",
    "df_clean = df_clean.assign(price=df_clean['price'])\n",
    "\n",
    "#Set price as float type\n",
    "df_clean['price'] = df_clean['price'].astype(float)"
   ]
  },
  {
   "cell_type": "markdown",
   "metadata": {},
   "source": [
    "## Get boolean expression from 'f'& 't' string"
   ]
  },
  {
   "cell_type": "code",
   "execution_count": 31,
   "metadata": {},
   "outputs": [],
   "source": [
    "from distutils.util import strtobool"
   ]
  },
  {
   "cell_type": "code",
   "execution_count": 32,
   "metadata": {},
   "outputs": [],
   "source": [
    "# use lambda and distutils to go from string to boolean expression\n",
    "df_clean = df_clean.assign(host_is_superhost=df_clean['host_is_superhost'].apply(lambda x: bool(distutils.util.strtobool(x))))\n",
    "df_clean = df_clean.assign(host_has_profile_pic=df_clean['host_has_profile_pic'].apply(lambda x: bool(distutils.util.strtobool(x))))\n",
    "df_clean = df_clean.assign(host_identity_verified=df_clean['host_identity_verified'].apply(lambda x: bool(distutils.util.strtobool(x))))\n",
    "df_clean = df_clean.assign(is_location_exact=df_clean['is_location_exact'].apply(lambda x: bool(distutils.util.strtobool(x))))\n",
    "df_clean = df_clean.assign(require_guest_profile_picture=df_clean['require_guest_profile_picture'].apply(lambda x: bool(distutils.util.strtobool(x))))\n",
    "df_clean = df_clean.assign(require_guest_phone_verification=df_clean['require_guest_phone_verification'].apply(lambda x: bool(distutils.util.strtobool(x))))\n"
   ]
  },
  {
   "cell_type": "markdown",
   "metadata": {},
   "source": [
    "## Identify usefull amenities"
   ]
  },
  {
   "cell_type": "code",
   "execution_count": 33,
   "metadata": {},
   "outputs": [],
   "source": [
    "# find amenity availability by amenity\n",
    "df_clean = df_clean.assign(has_tv=df_clean['amenities'].apply(lambda x: x.find('Wifi') != -1))\n",
    "df_clean = df_clean.assign(has_fireplace=df_clean['amenities'].apply(lambda x: x.find('Indoor fireplace') != -1))\n",
    "df_clean = df_clean.assign(has_kitchen=df_clean['amenities'].apply(lambda x: x.find('Kitchen') != -1))\n",
    "df_clean = df_clean.assign(has_family_friendly=df_clean['amenities'].apply(lambda x: x.find('Family/kid friendly') != -1))\n",
    "df_clean = df_clean.assign(has_host_greeting=df_clean['amenities'].apply(lambda x: x.find('Host greets you') != -1))\n",
    "df_clean = df_clean.assign(has_24hrs_checkin=df_clean['amenities'].apply(lambda x: x.find('24-hour check-in') != -1))\n",
    "df_clean = df_clean.assign(has_breakfast=df_clean['amenities'].apply(lambda x: x.find('Breakfast') != -1))\n",
    "df_clean = df_clean.assign(has_pets=df_clean['amenities'].apply(lambda x: x.find('Pets live on this property') != -1))\n",
    "df_clean = df_clean.assign(has_dishwasher=df_clean['amenities'].apply(lambda x: x.find('Dishwasher') != -1))\n",
    "df_clean = df_clean.assign(has_private_entrance=df_clean['amenities'].apply(lambda x: x.find('Private entrance') != -1))\n",
    "df_clean = df_clean.assign(has_patio_balcony=df_clean['amenities'].apply(lambda x: x.find('Patio or balcony') != -1))\n",
    "df_clean = df_clean.assign(has_self_checkin=df_clean['amenities'].apply(lambda x: x.find('Self check-in') != -1))\n",
    "df_clean = df_clean.assign(has_workspace=df_clean['amenities'].apply(lambda x: x.find('Laptop friendly workspace') != -1))\n",
    "df_clean = df_clean.assign(has_bathtub=df_clean['amenities'].apply(lambda x: x.find('Bathtub') != -1))\n",
    "df_clean = df_clean.assign(has_longterm=df_clean['amenities'].apply(lambda x: x.find('Long term stays allowed') != -1))\n",
    "df_clean = df_clean.assign(has_parking=df_clean['amenities'].apply(lambda x: x.find('Free parking on premises') != -1))\n",
    "df_clean = df_clean.assign(has_garden=df_clean['amenities'].apply(lambda x: x.find('Garden or backyard') != -1))\n",
    "\n",
    "# drop amenities column\n",
    "df_clean = df_clean.drop(['amenities'],axis=1)"
   ]
  },
  {
   "cell_type": "markdown",
   "metadata": {},
   "source": [
    "## Use datetime calculation to get days metric for Host Since"
   ]
  },
  {
   "cell_type": "code",
   "execution_count": 34,
   "metadata": {},
   "outputs": [],
   "source": [
    "# create days delta calculation function\n",
    "day_calc = lambda x: (datetime.date.today() - datetime.datetime.strptime(x, \"%Y-%m-%d\").date()).days\n",
    "\n",
    "# apply on host_since column\n",
    "df_clean = df_clean.assign(host_since=df_clean['host_since'].apply(day_calc))"
   ]
  },
  {
   "cell_type": "markdown",
   "metadata": {},
   "source": [
    "## Drop some more columns"
   ]
  },
  {
   "cell_type": "markdown",
   "metadata": {},
   "source": [
    "## Check outliers"
   ]
  },
  {
   "cell_type": "code",
   "execution_count": 36,
   "metadata": {},
   "outputs": [
    {
     "data": {
      "text/plain": [
       "13700.0"
      ]
     },
     "execution_count": 36,
     "metadata": {},
     "output_type": "execute_result"
    }
   ],
   "source": [
    "# max price\n",
    "df_clean.price.max()"
   ]
  },
  {
   "cell_type": "code",
   "execution_count": 38,
   "metadata": {},
   "outputs": [
    {
     "data": {
      "text/plain": [
       "1      0.336060\n",
       "2      0.306671\n",
       "3      0.166454\n",
       "5      0.048337\n",
       "4      0.045244\n",
       "         ...   \n",
       "78     0.000019\n",
       "46     0.000019\n",
       "365    0.000019\n",
       "77     0.000019\n",
       "64     0.000019\n",
       "Name: minimum_nights, Length: 96, dtype: float64"
      ]
     },
     "execution_count": 38,
     "metadata": {},
     "output_type": "execute_result"
    }
   ],
   "source": [
    "# ratio of occurrences of value by certain column\n",
    "df_clean.minimum_nights.value_counts() / df_clean.shape[0]\n",
    "    "
   ]
  },
  {
   "cell_type": "code",
   "execution_count": 39,
   "metadata": {},
   "outputs": [
    {
     "data": {
      "text/plain": [
       "<AxesSubplot:xlabel='price'>"
      ]
     },
     "execution_count": 39,
     "metadata": {},
     "output_type": "execute_result"
    },
    {
     "data": {
      "image/png": "[encoded data removed]",
      "text/plain": [
       "<Figure size 432x288 with 1 Axes>"
      ]
     },
     "metadata": {
      "needs_background": "light"
     },
     "output_type": "display_data"
    }
   ],
   "source": [
    "# check boxplot for price\n",
    "sns.boxplot(x=df_clean['price'])\n"
   ]
  },
  {
   "cell_type": "markdown",
   "metadata": {},
   "source": [
    "## Cut outliers for Price using Mod-z "
   ]
  },
  {
   "cell_type": "code",
   "execution_count": 40,
   "metadata": {},
   "outputs": [],
   "source": [
    "# create mod_z function (copied from: https://stackoverflow.com/questions/58127935/how-to-calculate-modified-z-score-and-iqr-on-each-column-of-the-dataframe)\n",
    "def mod_z(col: pd.Series, thresh: float=3.5) -> pd.Series:\n",
    "    med_col = col.median()\n",
    "    med_abs_dev = (np.abs(col - med_col)).median()\n",
    "    mod_z = 0.7413 * ((col - med_col) / med_abs_dev)\n",
    "    mod_z = mod_z[np.abs(mod_z) < thresh]\n",
    "    return np.abs(mod_z)\n",
    "\n",
    "# run mod_z function on dataframe\n",
    "df_mod_z = df_clean.select_dtypes(include=[np.number]).apply(mod_z)"
   ]
  },
  {
   "cell_type": "code",
   "execution_count": 41,
   "metadata": {},
   "outputs": [
    {
     "data": {
      "text/plain": [
       "(48531, 35)"
      ]
     },
     "execution_count": 41,
     "metadata": {},
     "output_type": "execute_result"
    }
   ],
   "source": [
    "#Apply above function to price \n",
    "df_clean_filtered = df_clean[df_mod_z['price'] >= 0]\n",
    "df_clean_filtered = df_clean_filtered[df_clean_filtered['price'] > 0]\n",
    "\n",
    "#check shape\n",
    "df_clean_filtered.shape"
   ]
  },
  {
   "cell_type": "code",
   "execution_count": 42,
   "metadata": {},
   "outputs": [
    {
     "data": {
      "text/html": [
       "<div>\n",
       "<style scoped>\n",
       "    .dataframe tbody tr th:only-of-type {\n",
       "        vertical-align: middle;\n",
       "    }\n",
       "\n",
       "    .dataframe tbody tr th {\n",
       "        vertical-align: top;\n",
       "    }\n",
       "\n",
       "    .dataframe thead th {\n",
       "        text-align: right;\n",
       "    }\n",
       "</style>\n",
       "<table border=\"1\" class=\"dataframe\">\n",
       "  <thead>\n",
       "    <tr style=\"text-align: right;\">\n",
       "      <th></th>\n",
       "      <th>host_since</th>\n",
       "      <th>accommodates</th>\n",
       "      <th>bathrooms</th>\n",
       "      <th>bedrooms</th>\n",
       "      <th>beds</th>\n",
       "      <th>minimum_nights</th>\n",
       "      <th>price</th>\n",
       "    </tr>\n",
       "  </thead>\n",
       "  <tbody>\n",
       "    <tr>\n",
       "      <th>count</th>\n",
       "      <td>48531.000000</td>\n",
       "      <td>48531.000000</td>\n",
       "      <td>48531.000000</td>\n",
       "      <td>48531.000000</td>\n",
       "      <td>48531.000000</td>\n",
       "      <td>48531.000000</td>\n",
       "      <td>48531.000000</td>\n",
       "    </tr>\n",
       "    <tr>\n",
       "      <th>mean</th>\n",
       "      <td>1822.162515</td>\n",
       "      <td>3.032041</td>\n",
       "      <td>1.233727</td>\n",
       "      <td>1.310997</td>\n",
       "      <td>1.669160</td>\n",
       "      <td>3.892275</td>\n",
       "      <td>89.531310</td>\n",
       "    </tr>\n",
       "    <tr>\n",
       "      <th>std</th>\n",
       "      <td>693.322695</td>\n",
       "      <td>1.778638</td>\n",
       "      <td>0.533589</td>\n",
       "      <td>0.796178</td>\n",
       "      <td>1.085221</td>\n",
       "      <td>14.006890</td>\n",
       "      <td>56.125287</td>\n",
       "    </tr>\n",
       "    <tr>\n",
       "      <th>min</th>\n",
       "      <td>763.000000</td>\n",
       "      <td>1.000000</td>\n",
       "      <td>0.000000</td>\n",
       "      <td>0.000000</td>\n",
       "      <td>0.000000</td>\n",
       "      <td>1.000000</td>\n",
       "      <td>1.000000</td>\n",
       "    </tr>\n",
       "    <tr>\n",
       "      <th>25%</th>\n",
       "      <td>1265.000000</td>\n",
       "      <td>2.000000</td>\n",
       "      <td>1.000000</td>\n",
       "      <td>1.000000</td>\n",
       "      <td>1.000000</td>\n",
       "      <td>1.000000</td>\n",
       "      <td>45.000000</td>\n",
       "    </tr>\n",
       "    <tr>\n",
       "      <th>50%</th>\n",
       "      <td>1721.000000</td>\n",
       "      <td>2.000000</td>\n",
       "      <td>1.000000</td>\n",
       "      <td>1.000000</td>\n",
       "      <td>1.000000</td>\n",
       "      <td>2.000000</td>\n",
       "      <td>78.000000</td>\n",
       "    </tr>\n",
       "    <tr>\n",
       "      <th>75%</th>\n",
       "      <td>2293.000000</td>\n",
       "      <td>4.000000</td>\n",
       "      <td>1.000000</td>\n",
       "      <td>2.000000</td>\n",
       "      <td>2.000000</td>\n",
       "      <td>3.000000</td>\n",
       "      <td>120.000000</td>\n",
       "    </tr>\n",
       "    <tr>\n",
       "      <th>max</th>\n",
       "      <td>4386.000000</td>\n",
       "      <td>16.000000</td>\n",
       "      <td>14.000000</td>\n",
       "      <td>10.000000</td>\n",
       "      <td>16.000000</td>\n",
       "      <td>1125.000000</td>\n",
       "      <td>268.000000</td>\n",
       "    </tr>\n",
       "  </tbody>\n",
       "</table>\n",
       "</div>"
      ],
      "text/plain": [
       "         host_since  accommodates     bathrooms      bedrooms          beds  \\\n",
       "count  48531.000000  48531.000000  48531.000000  48531.000000  48531.000000   \n",
       "mean    1822.162515      3.032041      1.233727      1.310997      1.669160   \n",
       "std      693.322695      1.778638      0.533589      0.796178      1.085221   \n",
       "min      763.000000      1.000000      0.000000      0.000000      0.000000   \n",
       "25%     1265.000000      2.000000      1.000000      1.000000      1.000000   \n",
       "50%     1721.000000      2.000000      1.000000      1.000000      1.000000   \n",
       "75%     2293.000000      4.000000      1.000000      2.000000      2.000000   \n",
       "max     4386.000000     16.000000     14.000000     10.000000     16.000000   \n",
       "\n",
       "       minimum_nights         price  \n",
       "count    48531.000000  48531.000000  \n",
       "mean         3.892275     89.531310  \n",
       "std         14.006890     56.125287  \n",
       "min          1.000000      1.000000  \n",
       "25%          1.000000     45.000000  \n",
       "50%          2.000000     78.000000  \n",
       "75%          3.000000    120.000000  \n",
       "max       1125.000000    268.000000  "
      ]
     },
     "execution_count": 42,
     "metadata": {},
     "output_type": "execute_result"
    }
   ],
   "source": [
    "# check summary\n",
    "df_clean_filtered.describe()"
   ]
  },
  {
   "cell_type": "markdown",
   "metadata": {},
   "source": [
    "## Cut outliers with hardcoded parameter"
   ]
  },
  {
   "cell_type": "code",
   "execution_count": 43,
   "metadata": {},
   "outputs": [
    {
     "data": {
      "text/plain": [
       "(48524, 35)"
      ]
     },
     "execution_count": 43,
     "metadata": {},
     "output_type": "execute_result"
    }
   ],
   "source": [
    "#Cut outliers\n",
    "df_clean_filtered = df_clean_filtered[df_clean_filtered['bathrooms'] < 20]\n",
    "df_clean_filtered = df_clean_filtered[df_clean_filtered['beds'] < 20]\n",
    "df_clean_filtered = df_clean_filtered[df_clean_filtered['minimum_nights'] < 365]\n",
    "df_clean_filtered = df_clean_filtered[df_clean_filtered['price'] < 2000]\n",
    "#Check shape\n",
    "df_clean_filtered.shape"
   ]
  },
  {
   "cell_type": "markdown",
   "metadata": {},
   "source": [
    "Drop a few final columns\n"
   ]
  },
  {
   "cell_type": "markdown",
   "metadata": {},
   "source": [
    "# Create dummy variables\n"
   ]
  },
  {
   "cell_type": "markdown",
   "metadata": {},
   "source": [
    "## Check normal distribution of Response variable"
   ]
  },
  {
   "cell_type": "code",
   "execution_count": 50,
   "metadata": {},
   "outputs": [
    {
     "name": "stderr",
     "output_type": "stream",
     "text": [
      "C:\\Users\\do6pb\\anaconda3\\envs\\ML\\lib\\site-packages\\seaborn\\distributions.py:2551: FutureWarning: `distplot` is a deprecated function and will be removed in a future version. Please adapt your code to use either `displot` (a figure-level function with similar flexibility) or `histplot` (an axes-level function for histograms).\n",
      "  warnings.warn(msg, FutureWarning)\n"
     ]
    },
    {
     "data": {
      "text/plain": [
       "<AxesSubplot:xlabel='price', ylabel='Density'>"
      ]
     },
     "execution_count": 50,
     "metadata": {},
     "output_type": "execute_result"
    },
    {
     "data": {
      "image/png": "[encoded data removed]",
      "text/plain": [
       "<Figure size 1080x720 with 1 Axes>"
      ]
     },
     "metadata": {
      "needs_background": "light"
     },
     "output_type": "display_data"
    }
   ],
   "source": [
    "#plot distribution of Price\n",
    "plt.figure(figsize=(15,10))\n",
    "plt.tight_layout()\n",
    "sns.distplot(df_clean_filtered['price'])"
   ]
  },
  {
   "cell_type": "markdown",
   "metadata": {},
   "source": [
    "# Preprocessing"
   ]
  },
  {
   "cell_type": "markdown",
   "metadata": {},
   "source": [
    "* Normalize some columns to combine them\n",
    "* Transform some data to create normal distribution of input variables\n",
    "* Standardization using StandardScaler"
   ]
  },
  {
   "cell_type": "markdown",
   "metadata": {},
   "source": [
    "## Normalize and combine "
   ]
  },
  {
   "cell_type": "code",
   "execution_count": 51,
   "metadata": {},
   "outputs": [],
   "source": [
    "#Import Normalizer from sklearn\n",
    "from sklearn.preprocessing import Normalizer \n",
    "\n",
    "#Set variables to normalize\n",
    "norm_vars = ['beds','bedrooms','accommodates']\n",
    "\n",
    "# initiate normalizer and apply to scaled data array\n",
    "normalize = Normalizer().fit(df_clean_filtered[norm_vars])\n",
    "norm_array = normalize.transform(df_clean_filtered[norm_vars])\n",
    "\n",
    "# create a DataFrame from the array\n",
    "df_model_norm_vars = pd.DataFrame(norm_array, columns = norm_vars, index = df_clean_filtered.index)\n",
    "\n",
    "# merge new DataFrame with full dataframe model \n",
    "df_model_merged = pd.merge(df_model_norm_vars,df_clean_filtered.drop(norm_vars,axis=1), right_index=True, left_index=True)\n",
    "\n",
    "# create combined column for beds, bedrooms and acommodates\n",
    "df_model_merged['combine_beds_bedrooms_acommodates'] = df_model_merged['beds'] + df_model_merged['bedrooms'] + df['accommodates']\n",
    "\n",
    "# drop already combined variables\n",
    "df_model_merged = df_model_merged.drop(['beds','bedrooms','accommodates'],axis=1)"
   ]
  },
  {
   "cell_type": "markdown",
   "metadata": {},
   "source": [
    "# # Check normal distribution of all numerical input variables "
   ]
  },
  {
   "cell_type": "code",
   "execution_count": 67,
   "metadata": {},
   "outputs": [
    {
     "name": "stdout",
     "output_type": "stream",
     "text": [
      "Figure(432x288)\n",
      "Figure(432x288)\n",
      "Figure(432x288)\n",
      "Figure(432x288)\n",
      "Figure(432x288)\n"
     ]
    },
    {
     "data": {
      "image/png": "[encoded data removed]",
      "text/plain": [
       "<Figure size 432x288 with 1 Axes>"
      ]
     },
     "metadata": {
      "needs_background": "light"
     },
     "output_type": "display_data"
    },
    {
     "data": {
      "image/png": "[encoded data removed]",
      "text/plain": [
       "<Figure size 432x288 with 1 Axes>"
      ]
     },
     "metadata": {
      "needs_background": "light"
     },
     "output_type": "display_data"
    },
    {
     "data": {
      "image/png": "[encoded data removed]",
      "text/plain": [
       "<Figure size 432x288 with 1 Axes>"
      ]
     },
     "metadata": {
      "needs_background": "light"
     },
     "output_type": "display_data"
    },
    {
     "data": {
      "image/png": "[encoded data removed]",
      "text/plain": [
       "<Figure size 432x288 with 1 Axes>"
      ]
     },
     "metadata": {
      "needs_background": "light"
     },
     "output_type": "display_data"
    },
    {
     "data": {
      "image/png": "[encoded data removed]",
      "text/plain": [
       "<Figure size 432x288 with 1 Axes>"
      ]
     },
     "metadata": {
      "needs_background": "light"
     },
     "output_type": "display_data"
    }
   ],
   "source": [
    "# Histograms of all vars with power transformation BoxCox\n",
    "\n",
    "# set vars to check\n",
    "check_vars = ['host_since', 'bathrooms',\n",
    "       'price', 'minimum_nights',\n",
    "       'combine_beds_bedrooms_acommodates',\n",
    "    ]\n",
    "\n",
    "# For loop on showing separate histograms per item\n",
    "i = 0\n",
    "for x in check_vars:\n",
    "    # set data\n",
    "    data = df_model_merged[x]\n",
    "    \n",
    "    # plot\n",
    "    plt.figure(i)\n",
    "    plt.title(x)\n",
    "    plt.hist(data)\n",
    "    print(plt.figure(i))\n",
    "    \n",
    "    # iterate \n",
    "    i = i + 1\n",
    "    \n",
    "\n"
   ]
  },
  {
   "cell_type": "code",
   "execution_count": 90,
   "metadata": {},
   "outputs": [],
   "source": [
    "# list of variables that need to be transformed to fit a normal distribution\n",
    "to_check_vars = ['price','bathrooms','minimum_nights', 'combine_beds_bedrooms_acommodates']"
   ]
  },
  {
   "cell_type": "markdown",
   "metadata": {},
   "source": [
    "# Boxcox transform and check outputs"
   ]
  },
  {
   "cell_type": "code",
   "execution_count": 91,
   "metadata": {},
   "outputs": [
    {
     "name": "stdout",
     "output_type": "stream",
     "text": [
      "0.10428900571030293\n",
      "Figure(432x288)\n",
      "-1.5114702702819813\n",
      "Figure(432x288)\n",
      "-1.0725863839858\n",
      "Figure(432x288)\n",
      "-1.2582039253556687\n",
      "Figure(432x288)\n"
     ]
    },
    {
     "data": {
      "image/png": "[encoded data removed]",
      "text/plain": [
       "<Figure size 432x288 with 1 Axes>"
      ]
     },
     "metadata": {
      "needs_background": "light"
     },
     "output_type": "display_data"
    },
    {
     "data": {
      "image/png": "[encoded data removed]",
      "text/plain": [
       "<Figure size 432x288 with 1 Axes>"
      ]
     },
     "metadata": {
      "needs_background": "light"
     },
     "output_type": "display_data"
    },
    {
     "data": {
      "image/png": "[encoded data removed]",
      "text/plain": [
       "<Figure size 432x288 with 1 Axes>"
      ]
     },
     "metadata": {
      "needs_background": "light"
     },
     "output_type": "display_data"
    },
    {
     "data": {
      "image/png": "[encoded data removed]",
      "text/plain": [
       "<Figure size 432x288 with 1 Axes>"
      ]
     },
     "metadata": {
      "needs_background": "light"
     },
     "output_type": "display_data"
    }
   ],
   "source": [
    "# For loop on showing separate histograms per item\n",
    "i = 0\n",
    "for x in to_check_vars:\n",
    "    plt.figure(i)\n",
    "    plt.title(x)\n",
    "    \n",
    "    # power transform\n",
    "    data = df_model_merged[x] + 1\n",
    "    data = boxcox(data)\n",
    "    \n",
    "    #print the boxcox lambda value\n",
    "    print(data[1])\n",
    "    \n",
    "    #plot the graph\n",
    "    plt.hist(data)\n",
    "    print(plt.figure(i))\n",
    "    \n",
    "    #increment the counter\n",
    "    i = i + 1"
   ]
  },
  {
   "cell_type": "markdown",
   "metadata": {},
   "source": [
    "# Mark variables that can fit a normal distribution and get rid a few others"
   ]
  },
  {
   "cell_type": "code",
   "execution_count": 102,
   "metadata": {},
   "outputs": [],
   "source": [
    "# variables to keep and boxcox transform \n",
    "boxcox_vars = ['price', 'combine_beds_bedrooms_acommodates']\n",
    "\n",
    "\n",
    "# variables to drop\n",
    "to_drop = ['bathrooms','minimum_nights']"
   ]
  },
  {
   "cell_type": "code",
   "execution_count": 98,
   "metadata": {},
   "outputs": [
    {
     "ename": "KeyError",
     "evalue": "\"['bathrooms' 'minimum_nights'] not found in axis\"",
     "output_type": "error",
     "traceback": [
      "\u001b[1;31m---------------------------------------------------------------------------\u001b[0m",
      "\u001b[1;31mKeyError\u001b[0m                                  Traceback (most recent call last)",
      "\u001b[1;32m<ipython-input-98-45db548155f9>\u001b[0m in \u001b[0;36m<module>\u001b[1;34m\u001b[0m\n\u001b[0;32m      1\u001b[0m \u001b[1;31m#drop variables\u001b[0m\u001b[1;33m\u001b[0m\u001b[1;33m\u001b[0m\u001b[1;33m\u001b[0m\u001b[0m\n\u001b[1;32m----> 2\u001b[1;33m \u001b[0mdf_model_merged\u001b[0m \u001b[1;33m=\u001b[0m \u001b[0mdf_model_merged\u001b[0m\u001b[1;33m.\u001b[0m\u001b[0mdrop\u001b[0m\u001b[1;33m(\u001b[0m\u001b[0mto_drop\u001b[0m\u001b[1;33m,\u001b[0m\u001b[0maxis\u001b[0m\u001b[1;33m=\u001b[0m\u001b[1;36m1\u001b[0m\u001b[1;33m)\u001b[0m\u001b[1;33m\u001b[0m\u001b[1;33m\u001b[0m\u001b[0m\n\u001b[0m",
      "\u001b[1;32m~\\anaconda3\\envs\\ML\\lib\\site-packages\\pandas\\core\\frame.py\u001b[0m in \u001b[0;36mdrop\u001b[1;34m(self, labels, axis, index, columns, level, inplace, errors)\u001b[0m\n\u001b[0;32m   4161\u001b[0m                 \u001b[0mweight\u001b[0m  \u001b[1;36m1.0\u001b[0m     \u001b[1;36m0.8\u001b[0m\u001b[1;33m\u001b[0m\u001b[1;33m\u001b[0m\u001b[0m\n\u001b[0;32m   4162\u001b[0m         \"\"\"\n\u001b[1;32m-> 4163\u001b[1;33m         return super().drop(\n\u001b[0m\u001b[0;32m   4164\u001b[0m             \u001b[0mlabels\u001b[0m\u001b[1;33m=\u001b[0m\u001b[0mlabels\u001b[0m\u001b[1;33m,\u001b[0m\u001b[1;33m\u001b[0m\u001b[1;33m\u001b[0m\u001b[0m\n\u001b[0;32m   4165\u001b[0m             \u001b[0maxis\u001b[0m\u001b[1;33m=\u001b[0m\u001b[0maxis\u001b[0m\u001b[1;33m,\u001b[0m\u001b[1;33m\u001b[0m\u001b[1;33m\u001b[0m\u001b[0m\n",
      "\u001b[1;32m~\\anaconda3\\envs\\ML\\lib\\site-packages\\pandas\\core\\generic.py\u001b[0m in \u001b[0;36mdrop\u001b[1;34m(self, labels, axis, index, columns, level, inplace, errors)\u001b[0m\n\u001b[0;32m   3885\u001b[0m         \u001b[1;32mfor\u001b[0m \u001b[0maxis\u001b[0m\u001b[1;33m,\u001b[0m \u001b[0mlabels\u001b[0m \u001b[1;32min\u001b[0m \u001b[0maxes\u001b[0m\u001b[1;33m.\u001b[0m\u001b[0mitems\u001b[0m\u001b[1;33m(\u001b[0m\u001b[1;33m)\u001b[0m\u001b[1;33m:\u001b[0m\u001b[1;33m\u001b[0m\u001b[1;33m\u001b[0m\u001b[0m\n\u001b[0;32m   3886\u001b[0m             \u001b[1;32mif\u001b[0m \u001b[0mlabels\u001b[0m \u001b[1;32mis\u001b[0m \u001b[1;32mnot\u001b[0m \u001b[1;32mNone\u001b[0m\u001b[1;33m:\u001b[0m\u001b[1;33m\u001b[0m\u001b[1;33m\u001b[0m\u001b[0m\n\u001b[1;32m-> 3887\u001b[1;33m                 \u001b[0mobj\u001b[0m \u001b[1;33m=\u001b[0m \u001b[0mobj\u001b[0m\u001b[1;33m.\u001b[0m\u001b[0m_drop_axis\u001b[0m\u001b[1;33m(\u001b[0m\u001b[0mlabels\u001b[0m\u001b[1;33m,\u001b[0m \u001b[0maxis\u001b[0m\u001b[1;33m,\u001b[0m \u001b[0mlevel\u001b[0m\u001b[1;33m=\u001b[0m\u001b[0mlevel\u001b[0m\u001b[1;33m,\u001b[0m \u001b[0merrors\u001b[0m\u001b[1;33m=\u001b[0m\u001b[0merrors\u001b[0m\u001b[1;33m)\u001b[0m\u001b[1;33m\u001b[0m\u001b[1;33m\u001b[0m\u001b[0m\n\u001b[0m\u001b[0;32m   3888\u001b[0m \u001b[1;33m\u001b[0m\u001b[0m\n\u001b[0;32m   3889\u001b[0m         \u001b[1;32mif\u001b[0m \u001b[0minplace\u001b[0m\u001b[1;33m:\u001b[0m\u001b[1;33m\u001b[0m\u001b[1;33m\u001b[0m\u001b[0m\n",
      "\u001b[1;32m~\\anaconda3\\envs\\ML\\lib\\site-packages\\pandas\\core\\generic.py\u001b[0m in \u001b[0;36m_drop_axis\u001b[1;34m(self, labels, axis, level, errors)\u001b[0m\n\u001b[0;32m   3919\u001b[0m                 \u001b[0mnew_axis\u001b[0m \u001b[1;33m=\u001b[0m \u001b[0maxis\u001b[0m\u001b[1;33m.\u001b[0m\u001b[0mdrop\u001b[0m\u001b[1;33m(\u001b[0m\u001b[0mlabels\u001b[0m\u001b[1;33m,\u001b[0m \u001b[0mlevel\u001b[0m\u001b[1;33m=\u001b[0m\u001b[0mlevel\u001b[0m\u001b[1;33m,\u001b[0m \u001b[0merrors\u001b[0m\u001b[1;33m=\u001b[0m\u001b[0merrors\u001b[0m\u001b[1;33m)\u001b[0m\u001b[1;33m\u001b[0m\u001b[1;33m\u001b[0m\u001b[0m\n\u001b[0;32m   3920\u001b[0m             \u001b[1;32melse\u001b[0m\u001b[1;33m:\u001b[0m\u001b[1;33m\u001b[0m\u001b[1;33m\u001b[0m\u001b[0m\n\u001b[1;32m-> 3921\u001b[1;33m                 \u001b[0mnew_axis\u001b[0m \u001b[1;33m=\u001b[0m \u001b[0maxis\u001b[0m\u001b[1;33m.\u001b[0m\u001b[0mdrop\u001b[0m\u001b[1;33m(\u001b[0m\u001b[0mlabels\u001b[0m\u001b[1;33m,\u001b[0m \u001b[0merrors\u001b[0m\u001b[1;33m=\u001b[0m\u001b[0merrors\u001b[0m\u001b[1;33m)\u001b[0m\u001b[1;33m\u001b[0m\u001b[1;33m\u001b[0m\u001b[0m\n\u001b[0m\u001b[0;32m   3922\u001b[0m             \u001b[0mresult\u001b[0m \u001b[1;33m=\u001b[0m \u001b[0mself\u001b[0m\u001b[1;33m.\u001b[0m\u001b[0mreindex\u001b[0m\u001b[1;33m(\u001b[0m\u001b[1;33m**\u001b[0m\u001b[1;33m{\u001b[0m\u001b[0maxis_name\u001b[0m\u001b[1;33m:\u001b[0m \u001b[0mnew_axis\u001b[0m\u001b[1;33m}\u001b[0m\u001b[1;33m)\u001b[0m\u001b[1;33m\u001b[0m\u001b[1;33m\u001b[0m\u001b[0m\n\u001b[0;32m   3923\u001b[0m \u001b[1;33m\u001b[0m\u001b[0m\n",
      "\u001b[1;32m~\\anaconda3\\envs\\ML\\lib\\site-packages\\pandas\\core\\indexes\\base.py\u001b[0m in \u001b[0;36mdrop\u001b[1;34m(self, labels, errors)\u001b[0m\n\u001b[0;32m   5280\u001b[0m         \u001b[1;32mif\u001b[0m \u001b[0mmask\u001b[0m\u001b[1;33m.\u001b[0m\u001b[0many\u001b[0m\u001b[1;33m(\u001b[0m\u001b[1;33m)\u001b[0m\u001b[1;33m:\u001b[0m\u001b[1;33m\u001b[0m\u001b[1;33m\u001b[0m\u001b[0m\n\u001b[0;32m   5281\u001b[0m             \u001b[1;32mif\u001b[0m \u001b[0merrors\u001b[0m \u001b[1;33m!=\u001b[0m \u001b[1;34m\"ignore\"\u001b[0m\u001b[1;33m:\u001b[0m\u001b[1;33m\u001b[0m\u001b[1;33m\u001b[0m\u001b[0m\n\u001b[1;32m-> 5282\u001b[1;33m                 \u001b[1;32mraise\u001b[0m \u001b[0mKeyError\u001b[0m\u001b[1;33m(\u001b[0m\u001b[1;34mf\"{labels[mask]} not found in axis\"\u001b[0m\u001b[1;33m)\u001b[0m\u001b[1;33m\u001b[0m\u001b[1;33m\u001b[0m\u001b[0m\n\u001b[0m\u001b[0;32m   5283\u001b[0m             \u001b[0mindexer\u001b[0m \u001b[1;33m=\u001b[0m \u001b[0mindexer\u001b[0m\u001b[1;33m[\u001b[0m\u001b[1;33m~\u001b[0m\u001b[0mmask\u001b[0m\u001b[1;33m]\u001b[0m\u001b[1;33m\u001b[0m\u001b[1;33m\u001b[0m\u001b[0m\n\u001b[0;32m   5284\u001b[0m         \u001b[1;32mreturn\u001b[0m \u001b[0mself\u001b[0m\u001b[1;33m.\u001b[0m\u001b[0mdelete\u001b[0m\u001b[1;33m(\u001b[0m\u001b[0mindexer\u001b[0m\u001b[1;33m)\u001b[0m\u001b[1;33m\u001b[0m\u001b[1;33m\u001b[0m\u001b[0m\n",
      "\u001b[1;31mKeyError\u001b[0m: \"['bathrooms' 'minimum_nights'] not found in axis\""
     ]
    }
   ],
   "source": [
    "#drop variables\n",
    "df_model_merged = df_model_merged.drop(to_drop,axis=1)"
   ]
  },
  {
   "cell_type": "markdown",
   "metadata": {},
   "source": [
    "# Boxcox transform needed variables"
   ]
  },
  {
   "cell_type": "code",
   "execution_count": 99,
   "metadata": {},
   "outputs": [],
   "source": [
    "# create boxcox in dataframe function\n",
    "def create_boxcox_df(df, boxcox_vars):\n",
    "    '''\n",
    "    INPUT:\n",
    "    df - pandas dataframe with categorical variables you want to dummy\n",
    "    boxcox_vars - list of strings that are associated with selected boxcox columns\n",
    "    \n",
    "    OUTPUT:\n",
    "    df - a new dataframe that has the following characteristics:\n",
    "            1. contains all columns that were not specified as boxcox columns\n",
    "            2. removes all the original columns in boxcox_vars\n",
    "            3. boxcox transforms for each of the boxcox columns in boxcox_vars\n",
    "            4. returns df\n",
    "            5. returns list of lambda values for maxlog()\n",
    "    '''\n",
    "    #iniate empty list\n",
    "    lambda_list = list()\n",
    "    \n",
    "    #start for loop\n",
    "    for col in boxcox_vars:\n",
    "        try:\n",
    "            # for each var boxcox transform\n",
    "            data = df[col] +1\n",
    "            data = boxcox(data)\n",
    "            \n",
    "            #lambda list append\n",
    "            lambda_list.append(data[1])\n",
    "            \n",
    "            #create dataframe from array\n",
    "            df_insert = pd.DataFrame(data[0],columns = [col],index = df_model_merged.index)\n",
    "            \n",
    "            #concat dataframes\n",
    "            df = pd.merge(df_insert,df.drop(col, axis=1), right_index=True, left_index=True)\n",
    "\n",
    "            \n",
    "        except:\n",
    "            continue\n",
    "    return df, lambda_list"
   ]
  },
  {
   "cell_type": "code",
   "execution_count": 103,
   "metadata": {},
   "outputs": [],
   "source": [
    "# apply to dataframe\n",
    "df_model_merged, lambda_list = create_boxcox_df(df_model_merged,boxcox_vars=boxcox_vars)\n"
   ]
  },
  {
   "cell_type": "code",
   "execution_count": 104,
   "metadata": {},
   "outputs": [
    {
     "data": {
      "image/png": "[encoded data removed]",
      "text/plain": [
       "<Figure size 432x288 with 2 Axes>"
      ]
     },
     "metadata": {
      "needs_background": "light"
     },
     "output_type": "display_data"
    },
    {
     "name": "stdout",
     "output_type": "stream",
     "text": [
      "None\n"
     ]
    }
   ],
   "source": [
    "# histograms of the variables\n",
    "df_hist = df_model_merged[boxcox_vars]\n",
    "\n",
    "df_hist.hist()\n",
    "print(plt.show())"
   ]
  },
  {
   "cell_type": "markdown",
   "metadata": {},
   "source": [
    "# Standardization with StandardScaler"
   ]
  },
  {
   "cell_type": "code",
   "execution_count": 107,
   "metadata": {},
   "outputs": [],
   "source": [
    "# performing preprocessing part \n",
    "from sklearn.preprocessing import StandardScaler\n",
    "\n",
    "# take all the variables that we want to standardize \n",
    "scaler_vars = ['combine_beds_bedrooms_acommodates']\n",
    "\n",
    "\n",
    "# initiate standardscaler and apply to data\n",
    "sc = StandardScaler()\n",
    "scaled_array = sc.fit_transform(df_model_merged[scaler_vars])\n",
    "\n",
    "# create new dataframe with scaled variables\n",
    "df_model_scaled = pd.DataFrame(scaled_array, columns = scaler_vars, index = df_model_merged.index)\n",
    "\n",
    "# merge them all back together\n",
    "df_model_merged = pd.merge(df_model_scaled,df_model_merged.drop(scaler_vars,axis=1), right_index=True, left_index=True)\n",
    "\n",
    "#print(df_model_merged.describe())"
   ]
  },
  {
   "cell_type": "code",
   "execution_count": 108,
   "metadata": {},
   "outputs": [
    {
     "data": {
      "image/png": "[encoded data removed]",
      "text/plain": [
       "<Figure size 432x288 with 2 Axes>"
      ]
     },
     "metadata": {
      "needs_background": "light"
     },
     "output_type": "display_data"
    },
    {
     "name": "stdout",
     "output_type": "stream",
     "text": [
      "None\n"
     ]
    }
   ],
   "source": [
    "# histograms of the variables\n",
    "df_hist = df_model_merged[boxcox_vars]\n",
    "\n",
    "df_hist.hist()\n",
    "print(plt.show())"
   ]
  },
  {
   "cell_type": "markdown",
   "metadata": {},
   "source": [
    "# Look at all adapted distributions"
   ]
  },
  {
   "cell_type": "code",
   "execution_count": 109,
   "metadata": {},
   "outputs": [
    {
     "data": {
      "text/plain": [
       "<function matplotlib.pyplot.show(close=None, block=None)>"
      ]
     },
     "execution_count": 109,
     "metadata": {},
     "output_type": "execute_result"
    },
    {
     "data": {
      "image/png": "[encoded data removed]",
      "text/plain": [
       "<Figure size 432x288 with 2 Axes>"
      ]
     },
     "metadata": {
      "needs_background": "light"
     },
     "output_type": "display_data"
    }
   ],
   "source": [
    "# histograms of the variables\n",
    "df_hist = df_model_merged[boxcox_vars]\n",
    "\n",
    "df_hist.hist()\n",
    "plt.show\n",
    "\n"
   ]
  },
  {
   "cell_type": "markdown",
   "metadata": {},
   "source": [
    "# Check for Multicollinearity"
   ]
  },
  {
   "cell_type": "code",
   "execution_count": 111,
   "metadata": {},
   "outputs": [
    {
     "data": {
      "text/plain": [
       "<AxesSubplot:>"
      ]
     },
     "execution_count": 111,
     "metadata": {},
     "output_type": "execute_result"
    },
    {
     "data": {
      "image/png": "[encoded data removed]",
      "text/plain": [
       "<Figure size 864x648 with 2 Axes>"
      ]
     },
     "metadata": {
      "needs_background": "light"
     },
     "output_type": "display_data"
    }
   ],
   "source": [
    "num_vars = ['host_since','price']\n",
    "\n",
    "#df_plot = df_model_merged.select_dtypes(include=[np.number])\n",
    "df_plot = df_model_merged[num_vars]\n",
    "\n",
    "matrix = np.triu(df_plot.corr())\n",
    "\n",
    "plt.figure(figsize=(12, 9))\n",
    "sns.heatmap(df_plot.corr(), annot=False, mask=matrix, linewidths=.5, fmt='.1f')"
   ]
  },
  {
   "cell_type": "markdown",
   "metadata": {},
   "source": [
    "# Take out variables where needed to avoid multicollinearity"
   ]
  },
  {
   "cell_type": "markdown",
   "metadata": {},
   "source": [
    "# Modeling\n",
    "\n",
    "* Implement Sklearn Linear Regression\n",
    "* Refine with some PolyNomial Features\n",
    "* Implement Sklearn RandomForestRegressor\n",
    "* Implement Statsmodels OLS\n",
    "* Implement H2O AutoML\n"
   ]
  },
  {
   "cell_type": "code",
   "execution_count": null,
   "metadata": {},
   "outputs": [],
   "source": []
  },
  {
   "cell_type": "code",
   "execution_count": 112,
   "metadata": {},
   "outputs": [],
   "source": [
    "def fit_linear_mod(df, response_col, test_size=.3, rand_state=42):\n",
    "    '''\n",
    "    INPUT:\n",
    "    df - a dataframe holding all the variables of interest\n",
    "    response_col - a string holding the name of the column\n",
    "    test_size - a float between [0,1] about what proportion of data should be in the test dataset\n",
    "    rand_state - an int that is provided as the random state for splitting the data into training and test \n",
    "    \n",
    "    OUTPUT:\n",
    "    test_score - float - r2 score on the test data\n",
    "    train_score - float - r2 score on the test data\n",
    "    lm_model - model object from sklearn\n",
    "    X_train, X_test, y_train, y_test - output from sklearn train test split used for optimal model\n",
    "    \n",
    "    This function should:\n",
    "    1. Split your data into an X matrix and a response vector y\n",
    "    2. Create training and test sets of data\n",
    "    3. Instantiate a LinearRegression model with normalized data\n",
    "    4. Fit your model to the training data\n",
    "    5. Predict the response for the training data and the test data\n",
    "    6. Obtain an rsquared value for both the training and test data\n",
    "    '''\n",
    "\n",
    "    #Split into explanatory and response variables\n",
    "    X = df.drop(response_col, axis=1)\n",
    "    y = df[response_col]\n",
    "\n",
    "    #Split into train and test\n",
    "    X_train, X_test, y_train, y_test = train_test_split(X, y, test_size=test_size, random_state=rand_state)\n",
    "\n",
    "    lm_model = LinearRegression(normalize=True) # Instantiate\n",
    "    lm_model.fit(X_train, y_train) #Fit\n",
    "\n",
    "    #Predict using your model\n",
    "    y_test_preds = lm_model.predict(X_test)\n",
    "    y_train_preds = lm_model.predict(X_train)\n",
    "\n",
    "    #Score using your model\n",
    "    test_score = r2_score(y_test, y_test_preds)\n",
    "    train_score = r2_score(y_train, y_train_preds)\n",
    "\n",
    "    return test_score, train_score, lm_model, X_train, X_test, y_train, y_test, y_test_preds, y_train_preds"
   ]
  },
  {
   "cell_type": "code",
   "execution_count": 131,
   "metadata": {},
   "outputs": [
    {
     "data": {
      "text/plain": [
       "Index(['combine_beds_bedrooms_acommodates', 'price', 'host_since',\n",
       "       'host_is_superhost', 'host_has_profile_pic', 'host_identity_verified',\n",
       "       'is_location_exact', 'bed_type', 'cancellation_policy',\n",
       "       'require_guest_profile_picture', 'require_guest_phone_verification',\n",
       "       'has_tv', 'has_fireplace', 'has_kitchen', 'has_family_friendly',\n",
       "       'has_host_greeting', 'has_24hrs_checkin', 'has_breakfast', 'has_pets',\n",
       "       'has_dishwasher', 'has_private_entrance', 'has_patio_balcony',\n",
       "       'has_self_checkin', 'has_workspace', 'has_bathtub', 'has_longterm',\n",
       "       'has_parking', 'has_garden'],\n",
       "      dtype='object')"
      ]
     },
     "execution_count": 131,
     "metadata": {},
     "output_type": "execute_result"
    }
   ],
   "source": [
    "df_model_merged.columns"
   ]
  },
  {
   "cell_type": "code",
   "execution_count": 120,
   "metadata": {},
   "outputs": [],
   "source": [
    "df_model_merged = df_model_merged.drop([\"neighbourhood_cleansed\"],axis=1)\n",
    "df_model_merged = df_model_merged.drop([\"room_type\"],axis=1)\n",
    "df_model_merged = df_model_merged.drop([\"property_type\"],axis=1)\n",
    "df_model_merged = df_model_merged.drop([\"bed_type\"],axis=1)\n",
    "df_model_merged = df_model_merged.drop([\"cancellation_policy\"],axis=1)"
   ]
  },
  {
   "cell_type": "code",
   "execution_count": 140,
   "metadata": {},
   "outputs": [],
   "source": []
  },
  {
   "cell_type": "code",
   "execution_count": 139,
   "metadata": {},
   "outputs": [
    {
     "data": {
      "text/plain": [
       "66                          flexible\n",
       "67       strict_14_with_grace_period\n",
       "68                          flexible\n",
       "69       strict_14_with_grace_period\n",
       "70                          moderate\n",
       "                    ...             \n",
       "51809                       moderate\n",
       "51810                       flexible\n",
       "51812                       flexible\n",
       "51813                       flexible\n",
       "51814                       flexible\n",
       "Name: cancellation_policy, Length: 48524, dtype: object"
      ]
     },
     "execution_count": 139,
     "metadata": {},
     "output_type": "execute_result"
    }
   ],
   "source": [
    "df_model_merged[\"cancellation_policy\"]"
   ]
  },
  {
   "cell_type": "markdown",
   "metadata": {},
   "source": [
    "# Use dataframe before preprocessing"
   ]
  },
  {
   "cell_type": "code",
   "execution_count": 141,
   "metadata": {},
   "outputs": [
    {
     "name": "stdout",
     "output_type": "stream",
     "text": [
      "The rsquared on the training data was 0.46840299651949824.  The rsquared on the test data was 0.47158432772624126.\n",
      "Root Mean Squared Error: 0.6378258183840262\n"
     ]
    }
   ],
   "source": [
    "\n",
    "#Test your function with the above dataset\n",
    "test_score, train_score, lm_model, X_train, X_test, y_train, y_test, y_test_preds, y_train_preds = fit_linear_mod(df_model_merged, 'price')\n",
    "\n",
    "#Print training and testing score\n",
    "print(\"The rsquared on the training data was {}.  The rsquared on the test data was {}.\".format(train_score, test_score))\n",
    "\n",
    "# The coefficients\n",
    "#print('Coefficients: \\n', lm_model.coef_)\n",
    "\n",
    "# print RMSE\n",
    "print('Root Mean Squared Error:', np.sqrt(metrics.mean_squared_error(y_test, y_test_preds)))"
   ]
  },
  {
   "cell_type": "markdown",
   "metadata": {},
   "source": [
    "# Use dataframe after preprocessing"
   ]
  },
  {
   "cell_type": "code",
   "execution_count": 142,
   "metadata": {},
   "outputs": [
    {
     "name": "stdout",
     "output_type": "stream",
     "text": [
      "The rsquared on the training data was 0.46840299651949824.  The rsquared on the test data was 0.47158432772624126.\n",
      "Root Mean Squared Error: 0.6378258183840262\n"
     ]
    }
   ],
   "source": [
    "# after preprocessing\n",
    "\n",
    "#Test your function with the above dataset\n",
    "test_score, train_score, lm_model, X_train, X_test, y_train, y_test, y_test_preds, y_train_preds = fit_linear_mod(df_model_merged, 'price')\n",
    "\n",
    "#Print training and testing score\n",
    "print(\"The rsquared on the training data was {}.  The rsquared on the test data was {}.\".format(train_score, test_score))\n",
    "\n",
    "# The coefficients\n",
    "#print('Coefficients: \\n', lm_model.coef_)\n",
    "\n",
    "# print RMSE\n",
    "print('Root Mean Squared Error:', np.sqrt(metrics.mean_squared_error(y_test, y_test_preds)))"
   ]
  },
  {
   "cell_type": "markdown",
   "metadata": {},
   "source": [
    "# PCA analysis\n"
   ]
  },
  {
   "cell_type": "code",
   "execution_count": 143,
   "metadata": {},
   "outputs": [
    {
     "name": "stdout",
     "output_type": "stream",
     "text": [
      "[9.99992542e-01 2.22520967e-06 6.17965543e-07 5.08942195e-07\n",
      " 4.38259507e-07 4.14176390e-07 3.83839767e-07 3.57375568e-07\n",
      " 3.44999477e-07 3.15114800e-07 2.82676167e-07 2.59521116e-07\n",
      " 2.27509166e-07 1.78473853e-07 1.47602383e-07 1.38315663e-07\n",
      " 1.33761582e-07 1.25558825e-07 1.16709772e-07 8.05069861e-08\n",
      " 6.85636488e-08 5.13260073e-08 2.96706007e-08 6.37791480e-09\n",
      " 5.30423275e-09]\n"
     ]
    }
   ],
   "source": [
    "# Applying PCA function on training \n",
    "from sklearn.decomposition import PCA \n",
    "  \n",
    "pca = PCA()\n",
    "  \n",
    "X_train = pca.fit_transform(X_train) \n",
    "  \n",
    "explained_variance = pca.explained_variance_ratio_\n",
    "print(explained_variance)"
   ]
  },
  {
   "cell_type": "markdown",
   "metadata": {},
   "source": [
    "# Implement Statsmodels OLS"
   ]
  },
  {
   "cell_type": "code",
   "execution_count": 145,
   "metadata": {},
   "outputs": [
    {
     "name": "stdout",
     "output_type": "stream",
     "text": [
      "0.6374717747524319\n"
     ]
    },
    {
     "data": {
      "text/html": [
       "<table class=\"simpletable\">\n",
       "<caption>OLS Regression Results</caption>\n",
       "<tr>\n",
       "  <th>Dep. Variable:</th>          <td>price</td>      <th>  R-squared:         </th> <td>   0.470</td> \n",
       "</tr>\n",
       "<tr>\n",
       "  <th>Model:</th>                   <td>OLS</td>       <th>  Adj. R-squared:    </th> <td>   0.469</td> \n",
       "</tr>\n",
       "<tr>\n",
       "  <th>Method:</th>             <td>Least Squares</td>  <th>  F-statistic:       </th> <td>   1717.</td> \n",
       "</tr>\n",
       "<tr>\n",
       "  <th>Date:</th>             <td>Sun, 06 Dec 2020</td> <th>  Prob (F-statistic):</th>  <td>  0.00</td>  \n",
       "</tr>\n",
       "<tr>\n",
       "  <th>Time:</th>                 <td>02:20:52</td>     <th>  Log-Likelihood:    </th> <td> -47005.</td> \n",
       "</tr>\n",
       "<tr>\n",
       "  <th>No. Observations:</th>      <td> 48524</td>      <th>  AIC:               </th> <td>9.406e+04</td>\n",
       "</tr>\n",
       "<tr>\n",
       "  <th>Df Residuals:</th>          <td> 48498</td>      <th>  BIC:               </th> <td>9.429e+04</td>\n",
       "</tr>\n",
       "<tr>\n",
       "  <th>Df Model:</th>              <td>    25</td>      <th>                     </th>     <td> </td>    \n",
       "</tr>\n",
       "<tr>\n",
       "  <th>Covariance Type:</th>      <td>nonrobust</td>    <th>                     </th>     <td> </td>    \n",
       "</tr>\n",
       "</table>\n",
       "<table class=\"simpletable\">\n",
       "<tr>\n",
       "                  <td></td>                     <th>coef</th>     <th>std err</th>      <th>t</th>      <th>P>|t|</th>  <th>[0.025</th>    <th>0.975]</th>  \n",
       "</tr>\n",
       "<tr>\n",
       "  <th>const</th>                             <td>    5.1218</td> <td>    0.061</td> <td>   84.205</td> <td> 0.000</td> <td>    5.003</td> <td>    5.241</td>\n",
       "</tr>\n",
       "<tr>\n",
       "  <th>combine_beds_bedrooms_acommodates</th> <td>    0.5052</td> <td>    0.003</td> <td>  155.055</td> <td> 0.000</td> <td>    0.499</td> <td>    0.512</td>\n",
       "</tr>\n",
       "<tr>\n",
       "  <th>host_since</th>                        <td> 2.685e-05</td> <td> 4.76e-06</td> <td>    5.643</td> <td> 0.000</td> <td> 1.75e-05</td> <td> 3.62e-05</td>\n",
       "</tr>\n",
       "<tr>\n",
       "  <th>host_is_superhost</th>                 <td>   -0.0342</td> <td>    0.009</td> <td>   -3.830</td> <td> 0.000</td> <td>   -0.052</td> <td>   -0.017</td>\n",
       "</tr>\n",
       "<tr>\n",
       "  <th>host_has_profile_pic</th>              <td>   -0.1801</td> <td>    0.058</td> <td>   -3.086</td> <td> 0.002</td> <td>   -0.294</td> <td>   -0.066</td>\n",
       "</tr>\n",
       "<tr>\n",
       "  <th>host_identity_verified</th>            <td>   -0.0401</td> <td>    0.007</td> <td>   -5.812</td> <td> 0.000</td> <td>   -0.054</td> <td>   -0.027</td>\n",
       "</tr>\n",
       "<tr>\n",
       "  <th>is_location_exact</th>                 <td>   -0.0208</td> <td>    0.006</td> <td>   -3.498</td> <td> 0.000</td> <td>   -0.032</td> <td>   -0.009</td>\n",
       "</tr>\n",
       "<tr>\n",
       "  <th>require_guest_profile_picture</th>     <td>    0.0253</td> <td>    0.048</td> <td>    0.530</td> <td> 0.596</td> <td>   -0.068</td> <td>    0.119</td>\n",
       "</tr>\n",
       "<tr>\n",
       "  <th>require_guest_phone_verification</th>  <td>    0.1813</td> <td>    0.034</td> <td>    5.347</td> <td> 0.000</td> <td>    0.115</td> <td>    0.248</td>\n",
       "</tr>\n",
       "<tr>\n",
       "  <th>has_tv</th>                            <td>   -0.1329</td> <td>    0.015</td> <td>   -9.086</td> <td> 0.000</td> <td>   -0.162</td> <td>   -0.104</td>\n",
       "</tr>\n",
       "<tr>\n",
       "  <th>has_fireplace</th>                     <td>    0.1319</td> <td>    0.012</td> <td>   11.022</td> <td> 0.000</td> <td>    0.108</td> <td>    0.155</td>\n",
       "</tr>\n",
       "<tr>\n",
       "  <th>has_kitchen</th>                       <td>    0.0771</td> <td>    0.011</td> <td>    6.962</td> <td> 0.000</td> <td>    0.055</td> <td>    0.099</td>\n",
       "</tr>\n",
       "<tr>\n",
       "  <th>has_family_friendly</th>               <td>    0.0938</td> <td>    0.007</td> <td>   13.969</td> <td> 0.000</td> <td>    0.081</td> <td>    0.107</td>\n",
       "</tr>\n",
       "<tr>\n",
       "  <th>has_host_greeting</th>                 <td>   -0.0471</td> <td>    0.007</td> <td>   -6.330</td> <td> 0.000</td> <td>   -0.062</td> <td>   -0.033</td>\n",
       "</tr>\n",
       "<tr>\n",
       "  <th>has_24hrs_checkin</th>                 <td>    0.1258</td> <td>    0.016</td> <td>    7.885</td> <td> 0.000</td> <td>    0.094</td> <td>    0.157</td>\n",
       "</tr>\n",
       "<tr>\n",
       "  <th>has_breakfast</th>                     <td>   -0.0580</td> <td>    0.008</td> <td>   -7.258</td> <td> 0.000</td> <td>   -0.074</td> <td>   -0.042</td>\n",
       "</tr>\n",
       "<tr>\n",
       "  <th>has_pets</th>                          <td>   -0.2329</td> <td>    0.018</td> <td>  -12.661</td> <td> 0.000</td> <td>   -0.269</td> <td>   -0.197</td>\n",
       "</tr>\n",
       "<tr>\n",
       "  <th>has_dishwasher</th>                    <td>    0.2864</td> <td>    0.009</td> <td>   31.998</td> <td> 0.000</td> <td>    0.269</td> <td>    0.304</td>\n",
       "</tr>\n",
       "<tr>\n",
       "  <th>has_private_entrance</th>              <td>    0.0927</td> <td>    0.007</td> <td>   12.834</td> <td> 0.000</td> <td>    0.079</td> <td>    0.107</td>\n",
       "</tr>\n",
       "<tr>\n",
       "  <th>has_patio_balcony</th>                 <td>   -0.0443</td> <td>    0.011</td> <td>   -4.085</td> <td> 0.000</td> <td>   -0.066</td> <td>   -0.023</td>\n",
       "</tr>\n",
       "<tr>\n",
       "  <th>has_self_checkin</th>                  <td>   -0.0354</td> <td>    0.008</td> <td>   -4.247</td> <td> 0.000</td> <td>   -0.052</td> <td>   -0.019</td>\n",
       "</tr>\n",
       "<tr>\n",
       "  <th>has_workspace</th>                     <td>    0.0917</td> <td>    0.006</td> <td>   14.202</td> <td> 0.000</td> <td>    0.079</td> <td>    0.104</td>\n",
       "</tr>\n",
       "<tr>\n",
       "  <th>has_bathtub</th>                       <td>   -0.0169</td> <td>    0.011</td> <td>   -1.477</td> <td> 0.140</td> <td>   -0.039</td> <td>    0.006</td>\n",
       "</tr>\n",
       "<tr>\n",
       "  <th>has_longterm</th>                      <td>    0.0934</td> <td>    0.008</td> <td>   12.057</td> <td> 0.000</td> <td>    0.078</td> <td>    0.109</td>\n",
       "</tr>\n",
       "<tr>\n",
       "  <th>has_parking</th>                       <td>   -0.2362</td> <td>    0.008</td> <td>  -31.386</td> <td> 0.000</td> <td>   -0.251</td> <td>   -0.221</td>\n",
       "</tr>\n",
       "<tr>\n",
       "  <th>has_garden</th>                        <td>   -0.2685</td> <td>    0.011</td> <td>  -24.996</td> <td> 0.000</td> <td>   -0.290</td> <td>   -0.247</td>\n",
       "</tr>\n",
       "</table>\n",
       "<table class=\"simpletable\">\n",
       "<tr>\n",
       "  <th>Omnibus:</th>       <td>330.934</td> <th>  Durbin-Watson:     </th> <td>   1.878</td> \n",
       "</tr>\n",
       "<tr>\n",
       "  <th>Prob(Omnibus):</th> <td> 0.000</td>  <th>  Jarque-Bera (JB):  </th> <td> 464.461</td> \n",
       "</tr>\n",
       "<tr>\n",
       "  <th>Skew:</th>          <td> 0.081</td>  <th>  Prob(JB):          </th> <td>1.39e-101</td>\n",
       "</tr>\n",
       "<tr>\n",
       "  <th>Kurtosis:</th>      <td> 3.451</td>  <th>  Cond. No.          </th> <td>5.61e+04</td> \n",
       "</tr>\n",
       "</table><br/><br/>Notes:<br/>[1] Standard Errors assume that the covariance matrix of the errors is correctly specified.<br/>[2] The condition number is large, 5.61e+04. This might indicate that there are<br/>strong multicollinearity or other numerical problems."
      ],
      "text/plain": [
       "<class 'statsmodels.iolib.summary.Summary'>\n",
       "\"\"\"\n",
       "                            OLS Regression Results                            \n",
       "==============================================================================\n",
       "Dep. Variable:                  price   R-squared:                       0.470\n",
       "Model:                            OLS   Adj. R-squared:                  0.469\n",
       "Method:                 Least Squares   F-statistic:                     1717.\n",
       "Date:                Sun, 06 Dec 2020   Prob (F-statistic):               0.00\n",
       "Time:                        02:20:52   Log-Likelihood:                -47005.\n",
       "No. Observations:               48524   AIC:                         9.406e+04\n",
       "Df Residuals:                   48498   BIC:                         9.429e+04\n",
       "Df Model:                          25                                         \n",
       "Covariance Type:            nonrobust                                         \n",
       "=====================================================================================================\n",
       "                                        coef    std err          t      P>|t|      [0.025      0.975]\n",
       "-----------------------------------------------------------------------------------------------------\n",
       "const                                 5.1218      0.061     84.205      0.000       5.003       5.241\n",
       "combine_beds_bedrooms_acommodates     0.5052      0.003    155.055      0.000       0.499       0.512\n",
       "host_since                         2.685e-05   4.76e-06      5.643      0.000    1.75e-05    3.62e-05\n",
       "host_is_superhost                    -0.0342      0.009     -3.830      0.000      -0.052      -0.017\n",
       "host_has_profile_pic                 -0.1801      0.058     -3.086      0.002      -0.294      -0.066\n",
       "host_identity_verified               -0.0401      0.007     -5.812      0.000      -0.054      -0.027\n",
       "is_location_exact                    -0.0208      0.006     -3.498      0.000      -0.032      -0.009\n",
       "require_guest_profile_picture         0.0253      0.048      0.530      0.596      -0.068       0.119\n",
       "require_guest_phone_verification      0.1813      0.034      5.347      0.000       0.115       0.248\n",
       "has_tv                               -0.1329      0.015     -9.086      0.000      -0.162      -0.104\n",
       "has_fireplace                         0.1319      0.012     11.022      0.000       0.108       0.155\n",
       "has_kitchen                           0.0771      0.011      6.962      0.000       0.055       0.099\n",
       "has_family_friendly                   0.0938      0.007     13.969      0.000       0.081       0.107\n",
       "has_host_greeting                    -0.0471      0.007     -6.330      0.000      -0.062      -0.033\n",
       "has_24hrs_checkin                     0.1258      0.016      7.885      0.000       0.094       0.157\n",
       "has_breakfast                        -0.0580      0.008     -7.258      0.000      -0.074      -0.042\n",
       "has_pets                             -0.2329      0.018    -12.661      0.000      -0.269      -0.197\n",
       "has_dishwasher                        0.2864      0.009     31.998      0.000       0.269       0.304\n",
       "has_private_entrance                  0.0927      0.007     12.834      0.000       0.079       0.107\n",
       "has_patio_balcony                    -0.0443      0.011     -4.085      0.000      -0.066      -0.023\n",
       "has_self_checkin                     -0.0354      0.008     -4.247      0.000      -0.052      -0.019\n",
       "has_workspace                         0.0917      0.006     14.202      0.000       0.079       0.104\n",
       "has_bathtub                          -0.0169      0.011     -1.477      0.140      -0.039       0.006\n",
       "has_longterm                          0.0934      0.008     12.057      0.000       0.078       0.109\n",
       "has_parking                          -0.2362      0.008    -31.386      0.000      -0.251      -0.221\n",
       "has_garden                           -0.2685      0.011    -24.996      0.000      -0.290      -0.247\n",
       "==============================================================================\n",
       "Omnibus:                      330.934   Durbin-Watson:                   1.878\n",
       "Prob(Omnibus):                  0.000   Jarque-Bera (JB):              464.461\n",
       "Skew:                           0.081   Prob(JB):                    1.39e-101\n",
       "Kurtosis:                       3.451   Cond. No.                     5.61e+04\n",
       "==============================================================================\n",
       "\n",
       "Notes:\n",
       "[1] Standard Errors assume that the covariance matrix of the errors is correctly specified.\n",
       "[2] The condition number is large, 5.61e+04. This might indicate that there are\n",
       "strong multicollinearity or other numerical problems.\n",
       "\"\"\""
      ]
     },
     "execution_count": 145,
     "metadata": {},
     "output_type": "execute_result"
    }
   ],
   "source": [
    "#import statsmodel library\n",
    "import statsmodels.api as sm\n",
    "\n",
    "#set response column and df to use\n",
    "response_col = 'price'\n",
    "df_to_use_ols = df_model_merged\n",
    "\n",
    "# set X matrix and y \n",
    "X = df_to_use_ols.drop(response_col, axis=1)\n",
    "X = sm.add_constant(X)\n",
    "y = df_to_use_ols[response_col]\n",
    "\n",
    "# fit and predict\n",
    "est = sm.OLS(y.astype(float), X.astype(float)).fit()\n",
    "ypred = est.predict(X)\n",
    "\n",
    "# evaluate\n",
    "rmse = np.sqrt(mean_squared_error(y, ypred))\n",
    "print(rmse)\n",
    "\n",
    "# show stats summary\n",
    "est.summary()\n"
   ]
  },
  {
   "cell_type": "code",
   "execution_count": null,
   "metadata": {},
   "outputs": [],
   "source": []
  },
  {
   "cell_type": "code",
   "execution_count": null,
   "metadata": {},
   "outputs": [],
   "source": []
  },
  {
   "cell_type": "code",
   "execution_count": null,
   "metadata": {},
   "outputs": [],
   "source": []
  },
  {
   "cell_type": "markdown",
   "metadata": {},
   "source": [
    "# Implement RandomForestRegressor"
   ]
  },
  {
   "cell_type": "code",
   "execution_count": 146,
   "metadata": {},
   "outputs": [
    {
     "name": "stdout",
     "output_type": "stream",
     "text": [
      "The R2 score:  0.4373701698387027\n",
      "Number of predictions: 48524\n",
      "MSE: 0.431002988388441\n",
      "RMSE: 0.6565081784627218\n"
     ]
    }
   ],
   "source": [
    "from sklearn.ensemble import RandomForestRegressor\n",
    "\n",
    "regr = RandomForestRegressor(max_depth=2, random_state=0)\n",
    "\n",
    "response_col = 'price'\n",
    "df_rfr_to_use = df_model_merged\n",
    "\n",
    "X = df_rfr_to_use.drop(response_col, axis=1)\n",
    "y = df_rfr_to_use[response_col]\n",
    "regr.fit(X, y)\n",
    "modelPred = regr.predict(X)\n",
    "\n",
    "print(\"The R2 score: \",regr.score(X,y))\n",
    "\n",
    "print(\"Number of predictions:\",len(modelPred))\n",
    "\n",
    "meanSquaredError=mean_squared_error(y, modelPred)\n",
    "print(\"MSE:\", meanSquaredError)\n",
    "rootMeanSquaredError = np.sqrt(meanSquaredError)\n",
    "print(\"RMSE:\", rootMeanSquaredError)\n"
   ]
  },
  {
   "cell_type": "code",
   "execution_count": 166,
   "metadata": {},
   "outputs": [
    {
     "ename": "AttributeError",
     "evalue": "'RandomForestRegressor' object has no attribute 'predict_proba'",
     "output_type": "error",
     "traceback": [
      "\u001b[1;31m---------------------------------------------------------------------------\u001b[0m",
      "\u001b[1;31mAttributeError\u001b[0m                            Traceback (most recent call last)",
      "\u001b[1;32m<ipython-input-166-ba41f782918a>\u001b[0m in \u001b[0;36m<module>\u001b[1;34m\u001b[0m\n\u001b[1;32m----> 1\u001b[1;33m \u001b[0mregr\u001b[0m\u001b[1;33m.\u001b[0m\u001b[0mpredict_proba\u001b[0m\u001b[1;33m(\u001b[0m\u001b[0mX\u001b[0m\u001b[1;33m)\u001b[0m\u001b[1;33m\u001b[0m\u001b[1;33m\u001b[0m\u001b[0m\n\u001b[0m",
      "\u001b[1;31mAttributeError\u001b[0m: 'RandomForestRegressor' object has no attribute 'predict_proba'"
     ]
    }
   ],
   "source": [
    "regr.predict_proba(X)"
   ]
  },
  {
   "cell_type": "markdown",
   "metadata": {},
   "source": [
    "# Implement H2O AutoML solution"
   ]
  },
  {
   "cell_type": "code",
   "execution_count": 147,
   "metadata": {},
   "outputs": [
    {
     "ename": "ModuleNotFoundError",
     "evalue": "No module named 'h2o'",
     "output_type": "error",
     "traceback": [
      "\u001b[1;31m---------------------------------------------------------------------------\u001b[0m",
      "\u001b[1;31mModuleNotFoundError\u001b[0m                       Traceback (most recent call last)",
      "\u001b[1;32m<ipython-input-147-5caf97388ffa>\u001b[0m in \u001b[0;36m<module>\u001b[1;34m\u001b[0m\n\u001b[0;32m      2\u001b[0m \u001b[1;31m# tutorial: https://github.com/h2oai/h2o-tutorials/blob/master/h2o-world-2017/automl/Python/automl_binary_classification_product_backorders.ipynb\u001b[0m\u001b[1;33m\u001b[0m\u001b[1;33m\u001b[0m\u001b[1;33m\u001b[0m\u001b[0m\n\u001b[0;32m      3\u001b[0m \u001b[1;33m\u001b[0m\u001b[0m\n\u001b[1;32m----> 4\u001b[1;33m \u001b[1;32mimport\u001b[0m \u001b[0mh2o\u001b[0m\u001b[1;33m\u001b[0m\u001b[1;33m\u001b[0m\u001b[0m\n\u001b[0m\u001b[0;32m      5\u001b[0m \u001b[1;32mfrom\u001b[0m \u001b[0mh2o\u001b[0m\u001b[1;33m.\u001b[0m\u001b[0mautoml\u001b[0m \u001b[1;32mimport\u001b[0m \u001b[0mH2OAutoML\u001b[0m\u001b[1;33m\u001b[0m\u001b[1;33m\u001b[0m\u001b[0m\n\u001b[0;32m      6\u001b[0m \u001b[0mh2o\u001b[0m\u001b[1;33m.\u001b[0m\u001b[0minit\u001b[0m\u001b[1;33m(\u001b[0m\u001b[1;33m)\u001b[0m\u001b[1;33m\u001b[0m\u001b[1;33m\u001b[0m\u001b[0m\n",
      "\u001b[1;31mModuleNotFoundError\u001b[0m: No module named 'h2o'"
     ]
    }
   ],
   "source": [
    "#https://docs.h2o.ai/h2o/latest-stable/h2o-docs/automl.html\n",
    "# tutorial: https://github.com/h2oai/h2o-tutorials/blob/master/h2o-world-2017/automl/Python/automl_binary_classification_product_backorders.ipynb\n",
    "\n",
    "import h2o\n",
    "from h2o.automl import H2OAutoML\n",
    "h2o.init()\n",
    "\n",
    "df_h2o_to_use = df_model_merged\n",
    "\n",
    "# Identify predictors and response\n",
    "x = df.columns.tolist()\n",
    "y = \"price\"\n",
    "x = x.remove(y)\n",
    "\n",
    "df_model_h2o = h2o.H2OFrame(df_h2o_to_use)\n"
   ]
  },
  {
   "cell_type": "code",
   "execution_count": 52,
   "metadata": {},
   "outputs": [
    {
     "name": "stdout",
     "output_type": "stream",
     "text": [
      "AutoML progress: |████████████████████████████████████████████████████████| 100%\n"
     ]
    },
    {
     "data": {
      "text/html": [
       "<table>\n",
       "<thead>\n",
       "<tr><th>model_id                                           </th><th style=\"text-align: right;\">  mean_residual_deviance</th><th style=\"text-align: right;\">    rmse</th><th style=\"text-align: right;\">     mse</th><th style=\"text-align: right;\">     mae</th><th style=\"text-align: right;\">    rmsle</th></tr>\n",
       "</thead>\n",
       "<tbody>\n",
       "<tr><td>StackedEnsemble_AllModels_AutoML_20200625_003646   </td><td style=\"text-align: right;\">                0.895009</td><td style=\"text-align: right;\">0.946049</td><td style=\"text-align: right;\">0.895009</td><td style=\"text-align: right;\">0.738556</td><td style=\"text-align: right;\">0.091517 </td></tr>\n",
       "<tr><td>StackedEnsemble_BestOfFamily_AutoML_20200625_003646</td><td style=\"text-align: right;\">                0.895997</td><td style=\"text-align: right;\">0.946571</td><td style=\"text-align: right;\">0.895997</td><td style=\"text-align: right;\">0.739257</td><td style=\"text-align: right;\">0.0915679</td></tr>\n",
       "<tr><td>GBM_grid__1_AutoML_20200625_003646_model_1         </td><td style=\"text-align: right;\">                0.900758</td><td style=\"text-align: right;\">0.949083</td><td style=\"text-align: right;\">0.900758</td><td style=\"text-align: right;\">0.742087</td><td style=\"text-align: right;\">0.0918195</td></tr>\n",
       "<tr><td>GBM_1_AutoML_20200625_003646                       </td><td style=\"text-align: right;\">                0.901634</td><td style=\"text-align: right;\">0.949544</td><td style=\"text-align: right;\">0.901634</td><td style=\"text-align: right;\">0.742309</td><td style=\"text-align: right;\">0.0919484</td></tr>\n",
       "<tr><td>GBM_3_AutoML_20200625_003646                       </td><td style=\"text-align: right;\">                0.902059</td><td style=\"text-align: right;\">0.949768</td><td style=\"text-align: right;\">0.902059</td><td style=\"text-align: right;\">0.742114</td><td style=\"text-align: right;\">0.0919485</td></tr>\n",
       "<tr><td>GBM_2_AutoML_20200625_003646                       </td><td style=\"text-align: right;\">                0.903343</td><td style=\"text-align: right;\">0.950444</td><td style=\"text-align: right;\">0.903343</td><td style=\"text-align: right;\">0.742069</td><td style=\"text-align: right;\">0.0919694</td></tr>\n",
       "<tr><td>GBM_5_AutoML_20200625_003646                       </td><td style=\"text-align: right;\">                0.906222</td><td style=\"text-align: right;\">0.951957</td><td style=\"text-align: right;\">0.906222</td><td style=\"text-align: right;\">0.742408</td><td style=\"text-align: right;\">0.092332 </td></tr>\n",
       "<tr><td>XGBoost_grid__1_AutoML_20200625_003646_model_3     </td><td style=\"text-align: right;\">                0.906398</td><td style=\"text-align: right;\">0.952049</td><td style=\"text-align: right;\">0.906398</td><td style=\"text-align: right;\">0.744102</td><td style=\"text-align: right;\">0.0921863</td></tr>\n",
       "<tr><td>XGBoost_grid__1_AutoML_20200625_003646_model_4     </td><td style=\"text-align: right;\">                0.908583</td><td style=\"text-align: right;\">0.953196</td><td style=\"text-align: right;\">0.908583</td><td style=\"text-align: right;\">0.744957</td><td style=\"text-align: right;\">0.0922579</td></tr>\n",
       "<tr><td>GBM_grid__1_AutoML_20200625_003646_model_2         </td><td style=\"text-align: right;\">                0.912297</td><td style=\"text-align: right;\">0.955143</td><td style=\"text-align: right;\">0.912297</td><td style=\"text-align: right;\">0.746437</td><td style=\"text-align: right;\">0.0924925</td></tr>\n",
       "<tr><td>GBM_4_AutoML_20200625_003646                       </td><td style=\"text-align: right;\">                0.912622</td><td style=\"text-align: right;\">0.955313</td><td style=\"text-align: right;\">0.912622</td><td style=\"text-align: right;\">0.745408</td><td style=\"text-align: right;\">0.0923872</td></tr>\n",
       "<tr><td>XGBoost_3_AutoML_20200625_003646                   </td><td style=\"text-align: right;\">                0.918712</td><td style=\"text-align: right;\">0.958495</td><td style=\"text-align: right;\">0.918712</td><td style=\"text-align: right;\">0.748576</td><td style=\"text-align: right;\">0.0928623</td></tr>\n",
       "<tr><td>XGBoost_grid__1_AutoML_20200625_003646_model_1     </td><td style=\"text-align: right;\">                0.923289</td><td style=\"text-align: right;\">0.96088 </td><td style=\"text-align: right;\">0.923289</td><td style=\"text-align: right;\">0.751479</td><td style=\"text-align: right;\">0.0930079</td></tr>\n",
       "<tr><td>GLM_1_AutoML_20200625_003646                       </td><td style=\"text-align: right;\">                0.930052</td><td style=\"text-align: right;\">0.964392</td><td style=\"text-align: right;\">0.930052</td><td style=\"text-align: right;\">0.755053</td><td style=\"text-align: right;\">0.0933225</td></tr>\n",
       "<tr><td>XRT_1_AutoML_20200625_003646                       </td><td style=\"text-align: right;\">                0.942078</td><td style=\"text-align: right;\">0.970607</td><td style=\"text-align: right;\">0.942078</td><td style=\"text-align: right;\">0.75844 </td><td style=\"text-align: right;\">0.0939002</td></tr>\n",
       "<tr><td>DRF_1_AutoML_20200625_003646                       </td><td style=\"text-align: right;\">                0.94524 </td><td style=\"text-align: right;\">0.972235</td><td style=\"text-align: right;\">0.94524 </td><td style=\"text-align: right;\">0.759265</td><td style=\"text-align: right;\">0.0940564</td></tr>\n",
       "<tr><td>DeepLearning_1_AutoML_20200625_003646              </td><td style=\"text-align: right;\">                0.957753</td><td style=\"text-align: right;\">0.978648</td><td style=\"text-align: right;\">0.957753</td><td style=\"text-align: right;\">0.766923</td><td style=\"text-align: right;\">0.094631 </td></tr>\n",
       "<tr><td>DeepLearning_grid__1_AutoML_20200625_003646_model_1</td><td style=\"text-align: right;\">                0.963445</td><td style=\"text-align: right;\">0.981552</td><td style=\"text-align: right;\">0.963445</td><td style=\"text-align: right;\">0.768562</td><td style=\"text-align: right;\">0.095586 </td></tr>\n",
       "<tr><td>XGBoost_1_AutoML_20200625_003646                   </td><td style=\"text-align: right;\">                1.00589 </td><td style=\"text-align: right;\">1.00294 </td><td style=\"text-align: right;\">1.00589 </td><td style=\"text-align: right;\">0.783741</td><td style=\"text-align: right;\">0.0969141</td></tr>\n",
       "<tr><td>DeepLearning_grid__2_AutoML_20200625_003646_model_1</td><td style=\"text-align: right;\">                1.01593 </td><td style=\"text-align: right;\">1.00793 </td><td style=\"text-align: right;\">1.01593 </td><td style=\"text-align: right;\">0.792971</td><td style=\"text-align: right;\">0.0968385</td></tr>\n",
       "<tr><td>XGBoost_2_AutoML_20200625_003646                   </td><td style=\"text-align: right;\">                1.07575 </td><td style=\"text-align: right;\">1.03719 </td><td style=\"text-align: right;\">1.07575 </td><td style=\"text-align: right;\">0.810199</td><td style=\"text-align: right;\">0.100276 </td></tr>\n",
       "<tr><td>XGBoost_grid__1_AutoML_20200625_003646_model_2     </td><td style=\"text-align: right;\">                1.29116 </td><td style=\"text-align: right;\">1.13629 </td><td style=\"text-align: right;\">1.29116 </td><td style=\"text-align: right;\">0.890389</td><td style=\"text-align: right;\">0.109881 </td></tr>\n",
       "</tbody>\n",
       "</table>"
      ]
     },
     "metadata": {},
     "output_type": "display_data"
    },
    {
     "data": {
      "text/plain": []
     },
     "execution_count": 52,
     "metadata": {},
     "output_type": "execute_result"
    }
   ],
   "source": [
    "# Run AutoML for 20 base models (limited to 1 hour max runtime by default)\n",
    "aml = H2OAutoML(max_models=20, seed=1)\n",
    "aml.train(x=x, y=y, training_frame=df_model_h2o)\n",
    "\n",
    "# View the AutoML Leaderboard\n",
    "lb = aml.leaderboard\n",
    "lb.head(rows=lb.nrows)  # Print all rows instead of default (10 rows)"
   ]
  }
 ],
 "metadata": {
  "kernelspec": {
   "display_name": "Python 3 (ipykernel)",
   "language": "python",
   "name": "python3"
  },
  "language_info": {
   "codemirror_mode": {
    "name": "ipython",
    "version": 3
   },
   "file_extension": ".py",
   "mimetype": "text/x-python",
   "name": "python",
   "nbconvert_exporter": "python",
   "pygments_lexer": "ipython3",
   "version": "3.8.12"
  }
 },
 "nbformat": 4,
 "nbformat_minor": 4
}
